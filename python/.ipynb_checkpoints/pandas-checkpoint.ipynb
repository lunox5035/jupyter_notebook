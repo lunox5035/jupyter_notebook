{
 "cells": [
  {
   "cell_type": "code",
   "execution_count": 1,
   "id": "6892c24b",
   "metadata": {},
   "outputs": [],
   "source": [
    "import pandas as pd"
   ]
  },
  {
   "cell_type": "code",
   "execution_count": 2,
   "id": "36a7587e",
   "metadata": {},
   "outputs": [
    {
     "name": "stdout",
     "output_type": "stream",
     "text": [
      "0    10\n",
      "1    20\n",
      "2    30\n",
      "3    40\n",
      "4    50\n",
      "dtype: int64\n"
     ]
    }
   ],
   "source": [
    "s1 = pd.Series([10,20,30,40,50])\n",
    "print(s1)"
   ]
  },
  {
   "cell_type": "code",
   "execution_count": 3,
   "id": "92df2ee7",
   "metadata": {},
   "outputs": [
    {
     "name": "stdout",
     "output_type": "stream",
     "text": [
      "RangeIndex(start=0, stop=5, step=1)\n"
     ]
    }
   ],
   "source": [
    "print(s1.index)"
   ]
  },
  {
   "cell_type": "code",
   "execution_count": 4,
   "id": "d63dd973",
   "metadata": {},
   "outputs": [
    {
     "name": "stdout",
     "output_type": "stream",
     "text": [
      "[10 20 30 40 50]\n"
     ]
    }
   ],
   "source": [
    "print(s1.values)"
   ]
  },
  {
   "cell_type": "code",
   "execution_count": 5,
   "id": "943c2d8b",
   "metadata": {},
   "outputs": [
    {
     "name": "stdout",
     "output_type": "stream",
     "text": [
      "<class 'numpy.ndarray'>\n"
     ]
    }
   ],
   "source": [
    "print(type(s1.values))"
   ]
  },
  {
   "cell_type": "code",
   "execution_count": 6,
   "id": "cc475dcc",
   "metadata": {},
   "outputs": [
    {
     "name": "stdout",
     "output_type": "stream",
     "text": [
      "0    a\n",
      "1    b\n",
      "2    c\n",
      "3    1\n",
      "4    2\n",
      "5    3\n",
      "dtype: object\n"
     ]
    }
   ],
   "source": [
    "s2=pd.Series(['a','b','c',1,2,3])\n",
    "print(s2)"
   ]
  },
  {
   "cell_type": "code",
   "execution_count": 7,
   "id": "8431f72a",
   "metadata": {},
   "outputs": [
    {
     "name": "stdout",
     "output_type": "stream",
     "text": [
      "0    NaN\n",
      "1    1.0\n",
      "2    2.0\n",
      "3    3.0\n",
      "dtype: float64\n"
     ]
    }
   ],
   "source": [
    "import numpy as np\n",
    "s3=pd.Series([np.nan,1,2,3])\n",
    "print(s3)"
   ]
  },
  {
   "cell_type": "code",
   "execution_count": 8,
   "id": "d1029099",
   "metadata": {},
   "outputs": [
    {
     "name": "stdout",
     "output_type": "stream",
     "text": [
      "2020-03-20    200.0\n",
      "2020-03-21    187.0\n",
      "2020-03-22      NaN\n",
      "2020-03-23    210.0\n",
      "dtype: float64\n"
     ]
    }
   ],
   "source": [
    "index_date = ['2020-03-20', '2020-03-21', '2020-03-22', '2020-03-23']\n",
    "s4 = pd.Series([200, 187, np.nan, 210], index=index_date)\n",
    "print(s4)"
   ]
  },
  {
   "cell_type": "code",
   "execution_count": 9,
   "id": "ae788cd6",
   "metadata": {},
   "outputs": [
    {
     "name": "stdout",
     "output_type": "stream",
     "text": [
      "국어    100\n",
      "영어     95\n",
      "수학    100\n",
      "dtype: int64\n"
     ]
    }
   ],
   "source": [
    "s5 = pd.Series({'국어':100, '영어':95, '수학':100})\n",
    "print(s5)"
   ]
  },
  {
   "cell_type": "code",
   "execution_count": 10,
   "id": "897ff39a",
   "metadata": {},
   "outputs": [
    {
     "name": "stdout",
     "output_type": "stream",
     "text": [
      "DatetimeIndex(['2020-01-20', '2020-01-21', '2020-01-22', '2020-01-23',\n",
      "               '2020-01-24', '2020-01-25', '2020-01-26', '2020-01-27'],\n",
      "              dtype='datetime64[ns]', freq='D')\n"
     ]
    }
   ],
   "source": [
    "p = pd.date_range(start='2020-01-20', end='2020-01-27')\n",
    "print(p)"
   ]
  },
  {
   "cell_type": "code",
   "execution_count": 11,
   "id": "83585b55",
   "metadata": {},
   "outputs": [
    {
     "name": "stdout",
     "output_type": "stream",
     "text": [
      "DatetimeIndex(['2020-01-20', '2020-01-21', '2020-01-22', '2020-01-23',\n",
      "               '2020-01-24', '2020-01-25', '2020-01-26', '2020-01-27'],\n",
      "              dtype='datetime64[ns]', freq='D')\n"
     ]
    }
   ],
   "source": [
    "p = pd.date_range(start='2020/01/20', end='2020.01.27')\n",
    "print(p)"
   ]
  },
  {
   "cell_type": "code",
   "execution_count": 12,
   "id": "b429a69e",
   "metadata": {},
   "outputs": [
    {
     "name": "stdout",
     "output_type": "stream",
     "text": [
      "DatetimeIndex(['2020-05-01', '2020-05-02', '2020-05-03', '2020-05-04',\n",
      "               '2020-05-05', '2020-05-06', '2020-05-07'],\n",
      "              dtype='datetime64[ns]', freq='D')\n"
     ]
    }
   ],
   "source": [
    "p = pd.date_range(start='2020-05-01', periods=7)\n",
    "print(p)"
   ]
  },
  {
   "cell_type": "code",
   "execution_count": 13,
   "id": "5b440b7f",
   "metadata": {},
   "outputs": [
    {
     "name": "stdout",
     "output_type": "stream",
     "text": [
      "DatetimeIndex(['2020-01-01', '2020-01-03', '2020-01-05', '2020-01-07'], dtype='datetime64[ns]', freq='2D')\n"
     ]
    }
   ],
   "source": [
    "p = pd.date_range(start='2020-01-01', periods=4, freq='2D')\n",
    "print(p)"
   ]
  },
  {
   "cell_type": "code",
   "execution_count": 14,
   "id": "ce581017",
   "metadata": {},
   "outputs": [
    {
     "ename": "SyntaxError",
     "evalue": "invalid syntax (2093040110.py, line 2)",
     "output_type": "error",
     "traceback": [
      "\u001b[1;36m  Cell \u001b[1;32mIn[14], line 2\u001b[1;36m\u001b[0m\n\u001b[1;33m    print(p)c\u001b[0m\n\u001b[1;37m            ^\u001b[0m\n\u001b[1;31mSyntaxError\u001b[0m\u001b[1;31m:\u001b[0m invalid syntax\n"
     ]
    }
   ],
   "source": [
    "p = pd.date_range(start='2022-01-01', periods=5, freq='W')\n",
    "print(p)"
   ]
  },
  {
   "cell_type": "code",
   "execution_count": null,
   "id": "d76ada52",
   "metadata": {},
   "outputs": [],
   "source": [
    "p = pd.date_range(start='2022-01-01', periods=5, freq='W-MON')\n",
    "print(p)"
   ]
  },
  {
   "cell_type": "code",
   "execution_count": null,
   "id": "f1da53f5",
   "metadata": {},
   "outputs": [],
   "source": [
    "p = pd.date_range(start='2023-02-01', periods=5, freq='2M')\n",
    "print(p)"
   ]
  },
  {
   "cell_type": "code",
   "execution_count": null,
   "id": "c97e1f0b",
   "metadata": {},
   "outputs": [],
   "source": [
    "p = pd.date_range(start='2023-02-01', periods=12, freq='2BM')\n",
    "print(p)"
   ]
  },
  {
   "cell_type": "code",
   "execution_count": null,
   "id": "06bc056c",
   "metadata": {},
   "outputs": [],
   "source": [
    "p = pd.date_range(start='2023-01-03', periods=4, freq='QS')\n",
    "print(p)"
   ]
  },
  {
   "cell_type": "code",
   "execution_count": null,
   "id": "d8f4ff42",
   "metadata": {},
   "outputs": [],
   "source": [
    "p = pd.date_range(start='2020-01-01 08:00', periods=10, freq='H')\n",
    "print(p)"
   ]
  },
  {
   "cell_type": "code",
   "execution_count": null,
   "id": "2205fac3",
   "metadata": {},
   "outputs": [],
   "source": [
    "df = pd.DataFrame([[1, 2, 3], [4, 5, 6], [7, 8, 9]])\n",
    "print(df)"
   ]
  },
  {
   "cell_type": "code",
   "execution_count": null,
   "id": "461c7d27",
   "metadata": {},
   "outputs": [],
   "source": [
    "print(df.values)"
   ]
  },
  {
   "cell_type": "code",
   "execution_count": null,
   "id": "f5abf905",
   "metadata": {},
   "outputs": [],
   "source": [
    "data = np.array([[1, 2, 3], [4, 5, 6], [7, 8, 9], [10, 11, 12]])\n",
    "index_date = pd.date_range('2020-05-01', periods=4)\n",
    "columns_list = ['A', 'B', 'C']\n",
    "df = pd.DataFrame(data, index=index_date, columns=columns_list)\n",
    "print(df)"
   ]
  },
  {
   "cell_type": "code",
   "execution_count": null,
   "id": "973172c8",
   "metadata": {},
   "outputs": [],
   "source": [
    "data = {'연도': [2015, 2016, 2016, 2017, 2017], '지사': ['서울', '서울', '부산', '서울', '부산'],\n",
    "        '고객 수': [200, 250, 150, 300, 200]}\n",
    "df = pd.DataFrame(data)\n",
    "print(df)"
   ]
  },
  {
   "cell_type": "code",
   "execution_count": null,
   "id": "d3f119e5",
   "metadata": {},
   "outputs": [],
   "source": [
    "s1 = pd.Series([1, 2, 3, 4, 5])\n",
    "s2 = pd.Series([10, 20, 30, 40, 50])\n",
    "print(s1 + s2)\n",
    "print(s2 - s1)\n",
    "print(s1 * s2)\n",
    "print(s2 / s1)"
   ]
  },
  {
   "cell_type": "code",
   "execution_count": null,
   "id": "5bd97747",
   "metadata": {},
   "outputs": [],
   "source": [
    "s3 = pd.Series([1, 2, 3, 4])\n",
    "s4 = pd.Series([10, 20, 30, 40, 50])\n",
    "print(s3 + s4)"
   ]
  },
  {
   "cell_type": "code",
   "execution_count": null,
   "id": "9cb49607",
   "metadata": {},
   "outputs": [],
   "source": [
    "data1 = {'A': [1, 2, 3, 4, 5],\n",
    "         'B': [10, 20, 30, 40, 50],\n",
    "         'C': [100, 200, 300, 400, 500]}\n",
    "df1 = pd.DataFrame(data1)\n",
    "print(df1)\n",
    "\n",
    "data2 = {'A': [6, 7, 8],\n",
    "         'B': [60, 70, 80],\n",
    "         'C': [600, 700, 800]}\n",
    "df2 = pd.DataFrame(data2)\n",
    "print(df2)\n",
    "print('='*20)\n",
    "print(df1 + df2)"
   ]
  },
  {
   "cell_type": "code",
   "execution_count": null,
   "id": "41c27709",
   "metadata": {},
   "outputs": [],
   "source": [
    "table_data3 = {'봄':  [256.5, 264.3, 215.9, 223.2, 312.8],\n",
    "              '여름': [770.6, 567.5, 599.8, 387.1, 446.2],\n",
    "              '가을': [363.5, 231.2, 293.1, 247.7, 381.6],\n",
    "              '겨울': [139.3, 59.9, 76.9, 109.1, 108.1]}\n",
    "columns_list = ['봄', '여름', '가을', '겨울']\n",
    "index_list = ['2012', '2013', '2014', '2015', '2016']\n",
    "\n",
    "df3 = pd.DataFrame(table_data3, columns = columns_list, index = index_list)\n",
    "print(df3)\n",
    "print('='*30)\n",
    "print(df3.mean(axis=0)) # 계절별\n",
    "#[5][4]\n",
    "print('='*30)\n",
    "print(df3.std())  # 계절별\n",
    "print('='*30)\n",
    "\n",
    "print(df3.mean(axis=1)) # 연도별\n",
    "print('='*30)\n",
    "print(df3.std(axis=1)) # 연도별\n",
    "print('='*30)\n",
    "print(df3.describe())"
   ]
  },
  {
   "cell_type": "code",
   "execution_count": null,
   "id": "e8bea982",
   "metadata": {},
   "outputs": [],
   "source": [
    "KTX_data = {'경부선 KTX': [39060, 39896, 42005, 43621, 41702, 41266, 32427],\n",
    "            '호남선 KTX': [7313, 6967, 6873, 6626, 8675, 10622, 9228],\n",
    "            '경전선 KTX': [3627, 4168, 4088, 4424, 4606, 4984, 5570],\n",
    "            '전라선 KTX': [309, 1771, 1954, 2244, 3146, 3945, 5766],\n",
    "            '동해선 KTX': [np.nan,np.nan, np.nan, np.nan, 2395, 3786, 6667]}\n",
    "col_list = ['경부선 KTX','호남선 KTX','경전선 KTX','전라선 KTX','동해선 KTX']\n",
    "index_list = ['2011', '2012', '2013', '2014', '2015', '2016', '2017']\n",
    "\n",
    "df_KTX = pd.DataFrame(KTX_data, columns = col_list, index = index_list)\n",
    "print(df_KTX)"
   ]
  },
  {
   "cell_type": "code",
   "execution_count": null,
   "id": "0a5f2729",
   "metadata": {},
   "outputs": [],
   "source": [
    "df_KTX.head(2)"
   ]
  },
  {
   "cell_type": "code",
   "execution_count": null,
   "id": "608993cf",
   "metadata": {},
   "outputs": [],
   "source": [
    "df_KTX.tail(2)"
   ]
  },
  {
   "cell_type": "code",
   "execution_count": null,
   "id": "9412b75c",
   "metadata": {},
   "outputs": [],
   "source": [
    "print(df_KTX[1:2])"
   ]
  },
  {
   "cell_type": "code",
   "execution_count": null,
   "id": "4cc39e38",
   "metadata": {},
   "outputs": [],
   "source": [
    "print(df_KTX[2:5])"
   ]
  },
  {
   "cell_type": "code",
   "execution_count": null,
   "id": "33487260",
   "metadata": {},
   "outputs": [],
   "source": [
    "print(df_KTX.loc['2011'])"
   ]
  },
  {
   "cell_type": "code",
   "execution_count": null,
   "id": "125241c7",
   "metadata": {},
   "outputs": [],
   "source": [
    "print(df_KTX.loc['2013':'2016'])"
   ]
  },
  {
   "cell_type": "code",
   "execution_count": null,
   "id": "b43cef86",
   "metadata": {},
   "outputs": [],
   "source": [
    "print(df_KTX['경부선 KTX'])"
   ]
  },
  {
   "cell_type": "code",
   "execution_count": null,
   "id": "2e3a677d",
   "metadata": {},
   "outputs": [],
   "source": [
    "print(df_KTX['경부선 KTX']['2012':'2014'])"
   ]
  },
  {
   "cell_type": "code",
   "execution_count": null,
   "id": "6b3e1b8f",
   "metadata": {},
   "outputs": [],
   "source": [
    "print(df_KTX['경부선 KTX'][1:4])"
   ]
  },
  {
   "cell_type": "code",
   "execution_count": null,
   "id": "d498a671",
   "metadata": {},
   "outputs": [],
   "source": [
    "print(df_KTX.loc['2016']['호남선 KTX'])\n",
    "print('='*40)\n",
    "print(df_KTX.loc['2016','호남선 KTX'])\n",
    "print('='*40)\n",
    "print(df_KTX['호남선 KTX']['2016'])\n",
    "print('='*40)\n",
    "print(df_KTX['호남선 KTX'][5])\n",
    "print('='*40)\n",
    "print(df_KTX['호남선 KTX'].loc['2016'])"
   ]
  },
  {
   "cell_type": "code",
   "execution_count": null,
   "id": "36ea13b0",
   "metadata": {},
   "outputs": [],
   "source": [
    "print(df_KTX.T)"
   ]
  },
  {
   "cell_type": "code",
   "execution_count": null,
   "id": "a2d46998",
   "metadata": {},
   "outputs": [],
   "source": [
    "\tprint(df_KTX[['동해선 KTX', '전라선 KTX', '경전선 KTX', '호남선 KTX', '경부선 KTX']])"
   ]
  },
  {
   "cell_type": "code",
   "execution_count": null,
   "id": "1834a78b",
   "metadata": {},
   "outputs": [],
   "source": [
    "df1 = pd.DataFrame({'Class1': [95, 92, 98, 100],\n",
    "                    'Class2': [91, 93, 97, 99]})\n",
    "print(df1)"
   ]
  },
  {
   "cell_type": "code",
   "execution_count": null,
   "id": "b8e52fc5",
   "metadata": {},
   "outputs": [],
   "source": [
    "df2 = pd.DataFrame({'Class1': [87, 89],'Class2': [85, 90]})\n",
    "print(df2)"
   ]
  },
  {
   "cell_type": "code",
   "execution_count": null,
   "id": "d41211b0",
   "metadata": {},
   "outputs": [],
   "source": [
    "print(df1.append(df2))"
   ]
  },
  {
   "cell_type": "code",
   "execution_count": null,
   "id": "3d459e8d",
   "metadata": {},
   "outputs": [],
   "source": [
    "print(df1.append(df2,ignore_index=True))"
   ]
  },
  {
   "cell_type": "code",
   "execution_count": null,
   "id": "17dfd1af",
   "metadata": {},
   "outputs": [],
   "source": [
    "#print(df1.append(df2,ignore_index=True))\n",
    "print(pd.concat([df1,df2],ignore_index=True))"
   ]
  },
  {
   "cell_type": "code",
   "execution_count": null,
   "id": "070d88f9",
   "metadata": {},
   "outputs": [],
   "source": [
    "df3 = pd.DataFrame({'Class1': [96, 83]})\n",
    "print(df3)"
   ]
  },
  {
   "cell_type": "code",
   "execution_count": null,
   "id": "c18856fb",
   "metadata": {},
   "outputs": [],
   "source": [
    "print(pd.concat([df3,df2],ignore_index=True))"
   ]
  },
  {
   "cell_type": "code",
   "execution_count": null,
   "id": "813b6a12",
   "metadata": {},
   "outputs": [],
   "source": [
    "df4 = pd.DataFrame({'Class3': [93, 91, 95, 98]})\n",
    "print(df4)"
   ]
  },
  {
   "cell_type": "code",
   "execution_count": null,
   "id": "93fd6354",
   "metadata": {},
   "outputs": [],
   "source": [
    "print(df1)"
   ]
  },
  {
   "cell_type": "code",
   "execution_count": null,
   "id": "f1684350",
   "metadata": {},
   "outputs": [],
   "source": [
    "print(df1.join(df4))"
   ]
  },
  {
   "cell_type": "code",
   "execution_count": null,
   "id": "9d0095dd",
   "metadata": {},
   "outputs": [],
   "source": [
    "df_A_B = pd.DataFrame({'판매월': ['1월', '2월', '3월', '4월'],\n",
    "                       '제품A': [100, 150, 200, 130],\n",
    "                       '제품B': [90, 110, 140, 170]})\n",
    "print(df_A_B)"
   ]
  },
  {
   "cell_type": "code",
   "execution_count": null,
   "id": "3368ec97",
   "metadata": {},
   "outputs": [],
   "source": [
    "df_C_D = pd.DataFrame({'판매월': ['1월', '2월', '3월', '4월'],\n",
    "                       '제품C': [112, 141, 203, 134],\n",
    "                       '제품D': [90, 110, 140, 170]})\n",
    "print(df_C_D)"
   ]
  },
  {
   "cell_type": "code",
   "execution_count": null,
   "id": "71b0f467",
   "metadata": {},
   "outputs": [],
   "source": [
    "print(df_A_B.merge(df_C_D))"
   ]
  },
  {
   "cell_type": "code",
   "execution_count": null,
   "id": "28a9bf61",
   "metadata": {},
   "outputs": [],
   "source": [
    "df_left = pd.DataFrame({'key':['A','B','C'], 'left': [1, 2, 3]})\n",
    "print(df_left)\n",
    "print('='*40)\n",
    "df_right = pd.DataFrame({'key':['A','B','D'], 'right': [4, 5, 6]})\n",
    "print(df_right)"
   ]
  },
  {
   "cell_type": "code",
   "execution_count": null,
   "id": "11a62c04",
   "metadata": {},
   "outputs": [],
   "source": [
    "print(df_left.merge(df_right, how='left', on = 'key'))"
   ]
  },
  {
   "cell_type": "code",
   "execution_count": null,
   "id": "07d9333e",
   "metadata": {},
   "outputs": [],
   "source": [
    "print(df_left.merge(df_right, how='outer', on = 'key'))"
   ]
  },
  {
   "cell_type": "code",
   "execution_count": null,
   "id": "f7f5a5f1",
   "metadata": {},
   "outputs": [],
   "source": [
    "print(df_left.merge(df_right, how='inner', on = 'key'))"
   ]
  },
  {
   "cell_type": "code",
   "execution_count": null,
   "id": "2a8731fd",
   "metadata": {},
   "outputs": [],
   "source": [
    "df=pd.read_csv('data/sea_rain1.csv',encoding='cp949')\n",
    "print(df)"
   ]
  },
  {
   "cell_type": "code",
   "execution_count": null,
   "id": "9908c03f",
   "metadata": {},
   "outputs": [],
   "source": [
    "df=pd.read_csv('data/sea_rain1.csv',encoding='cp949',index_col='연도')\n",
    "print(df)"
   ]
  },
  {
   "cell_type": "code",
   "execution_count": null,
   "id": "dc8fb9cf",
   "metadata": {},
   "outputs": [],
   "source": [
    "df_WH = pd.DataFrame({'몸무게':[62, 67, 55, 74],\n",
    "                      '키':[165, 177, 160, 180]},\n",
    "                       index=['ID_1', 'ID_2', 'ID_3', 'ID_4'])\n",
    "df_WH.index.name = '회원'\n",
    "print(df_WH)"
   ]
  },
  {
   "cell_type": "code",
   "execution_count": null,
   "id": "df1ef3da",
   "metadata": {},
   "outputs": [],
   "source": [
    "df_WH['BMI']=df_WH['몸무게']/(df_WH['키']/100)**2\n",
    "print(df_WH)"
   ]
  },
  {
   "cell_type": "code",
   "execution_count": null,
   "id": "a24b3788",
   "metadata": {},
   "outputs": [],
   "source": [
    "df_WH.to_csv('data/BMI.csv')"
   ]
  }
 ],
 "metadata": {
  "kernelspec": {
   "display_name": "Python 3 (ipykernel)",
   "language": "python",
   "name": "python3"
  },
  "language_info": {
   "codemirror_mode": {
    "name": "ipython",
    "version": 3
   },
   "file_extension": ".py",
   "mimetype": "text/x-python",
   "name": "python",
   "nbconvert_exporter": "python",
   "pygments_lexer": "ipython3",
   "version": "3.8.15"
  }
 },
 "nbformat": 4,
 "nbformat_minor": 5
}
