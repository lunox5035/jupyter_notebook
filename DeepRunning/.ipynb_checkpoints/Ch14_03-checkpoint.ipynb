{
 "cells": [
  {
   "cell_type": "markdown",
   "id": "414fe457",
   "metadata": {},
   "source": [
    "epochs별로 모델 저장"
   ]
  },
  {
   "cell_type": "code",
   "execution_count": null,
   "id": "3c382687",
   "metadata": {},
   "outputs": [],
   "source": [
    "from tensorflow.keras import models, layers\n",
    "from sklearn.model_selection import train_test_split\n",
    "import pandas as pd\n",
    "from tensorflow.keras import ModelCheckpoint\n",
    "import os\n",
    "import numpy as np\n",
    "import matplotlib "
   ]
  },
  {
   "cell_type": "code",
   "execution_count": null,
   "id": "219ebeaa",
   "metadata": {},
   "outputs": [],
   "source": []
  },
  {
   "cell_type": "code",
   "execution_count": null,
   "id": "cccbb44e",
   "metadata": {},
   "outputs": [],
   "source": [
    "model =models.Sequential()\n",
    "model.add(layers.Dense(30,input_dim=12,activation='relu'))\n",
    "model.add(layers.Dense(12,activation='relu'))\n",
    "model.add(layers.Dense(8,activation='relu'))\n",
    "model.add(layers.Dense(1,activation='sigmoid'))\n",
    "model.compile(loss='binary_crossentropy',optimizer='adam',metrics=['accuracy'])"
   ]
  },
  {
   "cell_type": "code",
   "execution_count": 1,
   "id": "c9f6b836",
   "metadata": {},
   "outputs": [],
   "source": [
    "model_dir ='./model/'\n",
    "\n",
    "if not os.path.exists(model_dir):\n",
    "    os.mkdir(model_dir)\n",
    "    \n",
    "modelpath = model_dir + '{epochs:02d}-{val_accuracy:.4f}.hdf5'\n",
    "checkpoint=ModelCheckpoint(fillioath=)"
   ]
  },
  {
   "cell_type": "code",
   "execution_count": null,
   "id": "9b5d3ec6",
   "metadata": {},
   "outputs": [],
   "source": [
    "score=model/ecaluate(X_test,y_test)\n",
    "print('Test Accuracy:',scor[1])"
   ]
  }
 ],
 "metadata": {
  "kernelspec": {
   "display_name": "Python 3 (ipykernel)",
   "language": "python",
   "name": "python3"
  },
  "language_info": {
   "codemirror_mode": {
    "name": "ipython",
    "version": 3
   },
   "file_extension": ".py",
   "mimetype": "text/x-python",
   "name": "python",
   "nbconvert_exporter": "python",
   "pygments_lexer": "ipython3",
   "version": "3.8.15"
  }
 },
 "nbformat": 4,
 "nbformat_minor": 5
}
