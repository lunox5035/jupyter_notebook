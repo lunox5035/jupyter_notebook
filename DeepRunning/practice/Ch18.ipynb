{
 "cells": [
  {
   "cell_type": "code",
   "execution_count": 19,
   "id": "3a9db9a1",
   "metadata": {},
   "outputs": [],
   "source": [
    "from tensorflow.keras import models, layers\n",
    "from tensorflow.keras.utils import to_categorical\n",
    "from tensorflow.keras.preprocessing import sequence\n",
    "from tensorflow.keras.datasets import reuters\n",
    "from tensorflow.keras.callbacks import EarlyStopping\n",
    "import numpy as np\n",
    "import matplotlib.pyplot as plt\n",
    "import os\n",
    "os.environ[\"KMP_DUPLICATE_LIB_OK\"]='1'"
   ]
  },
  {
   "cell_type": "code",
   "execution_count": 2,
   "id": "3759c511",
   "metadata": {},
   "outputs": [],
   "source": [
    "(X_train, y_train),(X_test, y_test) = reuters.load_data(num_words=1000, test_split=0.2)"
   ]
  },
  {
   "cell_type": "code",
   "execution_count": 3,
   "id": "bd6a4caa",
   "metadata": {},
   "outputs": [
    {
     "name": "stdout",
     "output_type": "stream",
     "text": [
      "46\n"
     ]
    }
   ],
   "source": [
    "print(np.max(y_train)+1)"
   ]
  },
  {
   "cell_type": "code",
   "execution_count": 4,
   "id": "a45284b8",
   "metadata": {},
   "outputs": [
    {
     "name": "stdout",
     "output_type": "stream",
     "text": [
      "8982\n"
     ]
    }
   ],
   "source": [
    "print(len(X_train))"
   ]
  },
  {
   "cell_type": "code",
   "execution_count": 5,
   "id": "1703d8f1",
   "metadata": {},
   "outputs": [
    {
     "name": "stdout",
     "output_type": "stream",
     "text": [
      "2246\n"
     ]
    }
   ],
   "source": [
    "print(len(X_test))"
   ]
  },
  {
   "cell_type": "code",
   "execution_count": 6,
   "id": "cfaa260b",
   "metadata": {},
   "outputs": [
    {
     "name": "stdout",
     "output_type": "stream",
     "text": [
      "87\n"
     ]
    }
   ],
   "source": [
    "print(len(X_train[0]))"
   ]
  },
  {
   "cell_type": "code",
   "execution_count": 10,
   "id": "1a1422da",
   "metadata": {},
   "outputs": [],
   "source": [
    "X_train=sequence.pad_sequences(X_train, maxlen=100)\n",
    "X_test=sequence.pad_sequences(X_test, maxlen=100)"
   ]
  },
  {
   "cell_type": "code",
   "execution_count": 11,
   "id": "a8c90fe8",
   "metadata": {},
   "outputs": [
    {
     "name": "stdout",
     "output_type": "stream",
     "text": [
      "[3 4 3 4 4]\n"
     ]
    }
   ],
   "source": [
    "print(y_train[:5])"
   ]
  },
  {
   "cell_type": "code",
   "execution_count": 12,
   "id": "a4bba6bb",
   "metadata": {},
   "outputs": [],
   "source": [
    "y_train=to_categorical(y_train)\n",
    "y_test=to_categorical(y_test)"
   ]
  },
  {
   "cell_type": "code",
   "execution_count": 13,
   "id": "55d07806",
   "metadata": {},
   "outputs": [
    {
     "name": "stdout",
     "output_type": "stream",
     "text": [
      "[[0. 0. 0. 1. 0. 0. 0. 0. 0. 0. 0. 0. 0. 0. 0. 0. 0. 0. 0. 0. 0. 0. 0. 0.\n",
      "  0. 0. 0. 0. 0. 0. 0. 0. 0. 0. 0. 0. 0. 0. 0. 0. 0. 0. 0. 0. 0. 0.]\n",
      " [0. 0. 0. 0. 1. 0. 0. 0. 0. 0. 0. 0. 0. 0. 0. 0. 0. 0. 0. 0. 0. 0. 0. 0.\n",
      "  0. 0. 0. 0. 0. 0. 0. 0. 0. 0. 0. 0. 0. 0. 0. 0. 0. 0. 0. 0. 0. 0.]\n",
      " [0. 0. 0. 1. 0. 0. 0. 0. 0. 0. 0. 0. 0. 0. 0. 0. 0. 0. 0. 0. 0. 0. 0. 0.\n",
      "  0. 0. 0. 0. 0. 0. 0. 0. 0. 0. 0. 0. 0. 0. 0. 0. 0. 0. 0. 0. 0. 0.]\n",
      " [0. 0. 0. 0. 1. 0. 0. 0. 0. 0. 0. 0. 0. 0. 0. 0. 0. 0. 0. 0. 0. 0. 0. 0.\n",
      "  0. 0. 0. 0. 0. 0. 0. 0. 0. 0. 0. 0. 0. 0. 0. 0. 0. 0. 0. 0. 0. 0.]\n",
      " [0. 0. 0. 0. 1. 0. 0. 0. 0. 0. 0. 0. 0. 0. 0. 0. 0. 0. 0. 0. 0. 0. 0. 0.\n",
      "  0. 0. 0. 0. 0. 0. 0. 0. 0. 0. 0. 0. 0. 0. 0. 0. 0. 0. 0. 0. 0. 0.]]\n"
     ]
    }
   ],
   "source": [
    "print(y_train[:5])"
   ]
  },
  {
   "cell_type": "code",
   "execution_count": 14,
   "id": "68b070f3",
   "metadata": {},
   "outputs": [],
   "source": [
    "model=models.Sequential()\n",
    "model.add(layers.Embedding(1000,100))\n",
    "model.add(layers.LSTM(100,activation='tanh'))\n",
    "model.add(layers.Dense(46,activation='softmax'))"
   ]
  },
  {
   "cell_type": "code",
   "execution_count": 15,
   "id": "76dfc8de",
   "metadata": {
    "scrolled": true
   },
   "outputs": [
    {
     "name": "stdout",
     "output_type": "stream",
     "text": [
      "Model: \"sequential\"\n",
      "_________________________________________________________________\n",
      " Layer (type)                Output Shape              Param #   \n",
      "=================================================================\n",
      " embedding (Embedding)       (None, None, 100)         100000    \n",
      "                                                                 \n",
      " lstm (LSTM)                 (None, 100)               80400     \n",
      "                                                                 \n",
      " dense (Dense)               (None, 46)                4646      \n",
      "                                                                 \n",
      "=================================================================\n",
      "Total params: 185,046\n",
      "Trainable params: 185,046\n",
      "Non-trainable params: 0\n",
      "_________________________________________________________________\n"
     ]
    }
   ],
   "source": [
    "model.summary()"
   ]
  },
  {
   "cell_type": "code",
   "execution_count": 17,
   "id": "bf33299a",
   "metadata": {},
   "outputs": [],
   "source": [
    "model.compile(loss='categorical_crossentropy',optimizer='adam',\n",
    "             metrics=['accuracy'])\n",
    "early_stopping=EarlyStopping(monitor='val_loss',patience=5)"
   ]
  },
  {
   "cell_type": "code",
   "execution_count": 18,
   "id": "8874f192",
   "metadata": {},
   "outputs": [
    {
     "name": "stdout",
     "output_type": "stream",
     "text": [
      "Epoch 1/20\n",
      "450/450 [==============================] - 18s 34ms/step - loss: 2.2154 - accuracy: 0.4300 - val_loss: 2.3080 - val_accuracy: 0.3678\n",
      "Epoch 2/20\n",
      "450/450 [==============================] - 15s 32ms/step - loss: 1.8512 - accuracy: 0.5210 - val_loss: 1.7619 - val_accuracy: 0.5463\n",
      "Epoch 3/20\n",
      "450/450 [==============================] - 14s 32ms/step - loss: 1.6536 - accuracy: 0.5804 - val_loss: 1.7107 - val_accuracy: 0.5606\n",
      "Epoch 4/20\n",
      "450/450 [==============================] - 14s 32ms/step - loss: 1.5289 - accuracy: 0.6139 - val_loss: 1.5228 - val_accuracy: 0.6135\n",
      "Epoch 5/20\n",
      "450/450 [==============================] - 15s 32ms/step - loss: 1.3734 - accuracy: 0.6520 - val_loss: 1.4463 - val_accuracy: 0.6273\n",
      "Epoch 6/20\n",
      "450/450 [==============================] - 15s 32ms/step - loss: 1.2499 - accuracy: 0.6831 - val_loss: 1.3176 - val_accuracy: 0.6572\n",
      "Epoch 7/20\n",
      "450/450 [==============================] - 15s 32ms/step - loss: 1.1602 - accuracy: 0.7077 - val_loss: 1.2674 - val_accuracy: 0.6750\n",
      "Epoch 8/20\n",
      "450/450 [==============================] - 15s 32ms/step - loss: 1.0887 - accuracy: 0.7216 - val_loss: 1.2188 - val_accuracy: 0.6919\n",
      "Epoch 9/20\n",
      "450/450 [==============================] - 15s 32ms/step - loss: 0.9986 - accuracy: 0.7417 - val_loss: 1.1771 - val_accuracy: 0.7017\n",
      "Epoch 10/20\n",
      "450/450 [==============================] - 14s 32ms/step - loss: 0.9198 - accuracy: 0.7645 - val_loss: 1.1455 - val_accuracy: 0.7164\n",
      "Epoch 11/20\n",
      "450/450 [==============================] - 15s 33ms/step - loss: 0.8535 - accuracy: 0.7847 - val_loss: 1.1332 - val_accuracy: 0.7182\n",
      "Epoch 12/20\n",
      "450/450 [==============================] - 15s 33ms/step - loss: 0.7885 - accuracy: 0.8007 - val_loss: 1.1219 - val_accuracy: 0.7240\n",
      "Epoch 13/20\n",
      "450/450 [==============================] - 15s 32ms/step - loss: 0.7334 - accuracy: 0.8134 - val_loss: 1.1739 - val_accuracy: 0.7110\n",
      "Epoch 14/20\n",
      "450/450 [==============================] - 15s 33ms/step - loss: 0.6770 - accuracy: 0.8287 - val_loss: 1.1479 - val_accuracy: 0.7266\n",
      "Epoch 15/20\n",
      "450/450 [==============================] - 15s 32ms/step - loss: 0.6287 - accuracy: 0.8400 - val_loss: 1.1489 - val_accuracy: 0.7342\n",
      "Epoch 16/20\n",
      "450/450 [==============================] - 15s 33ms/step - loss: 0.5784 - accuracy: 0.8518 - val_loss: 1.1798 - val_accuracy: 0.7248\n",
      "Epoch 17/20\n",
      "450/450 [==============================] - 15s 33ms/step - loss: 0.5346 - accuracy: 0.8637 - val_loss: 1.2351 - val_accuracy: 0.7244\n"
     ]
    }
   ],
   "source": [
    "history=model.fit(X_train, y_train, batch_size=20, epochs=20,\n",
    "                  validation_data=(X_test, y_test), callbacks=[early_stopping])"
   ]
  },
  {
   "cell_type": "code",
   "execution_count": 22,
   "id": "08ef81f7",
   "metadata": {},
   "outputs": [
    {
     "name": "stdout",
     "output_type": "stream",
     "text": [
      "71/71 [==============================] - 1s 12ms/step - loss: 1.2351 - accuracy: 0.7244\n",
      "Test Accuracy: 0.7244\n"
     ]
    }
   ],
   "source": [
    "print('Test Accuracy: %.4f' %(model.evaluate(X_test, y_test)[1]))"
   ]
  },
  {
   "cell_type": "code",
   "execution_count": 23,
   "id": "8cdd4ada",
   "metadata": {},
   "outputs": [
    {
     "data": {
      "image/png": "[encoded data removed]",
      "text/plain": [
       "<Figure size 640x480 with 1 Axes>"
      ]
     },
     "metadata": {},
     "output_type": "display_data"
    }
   ],
   "source": [
    "y_vloss = history.history['val_loss']\n",
    "y_loss = history.history['loss']\n",
    "\n",
    "# 그래프로 표현해 보겠습니다.\n",
    "x_len = np.arange(len(y_loss))\n",
    "plt.plot(x_len, y_vloss, marker='.', c=\"red\", label='Testset_loss')\n",
    "plt.plot(x_len, y_loss, marker='.', c=\"blue\", label='Trainset_loss')\n",
    "\n",
    "# 그래프에 그리드를 주고 레이블을 표시하겠습니다. \n",
    "plt.legend(loc='upper right')\n",
    "plt.grid()\n",
    "plt.xlabel('epoch')\n",
    "plt.ylabel('loss')\n",
    "plt.show()"
   ]
  },
  {
   "cell_type": "code",
   "execution_count": null,
   "id": "2d5c6b44",
   "metadata": {},
   "outputs": [],
   "source": []
  }
 ],
 "metadata": {
  "kernelspec": {
   "display_name": "Python 3 (ipykernel)",
   "language": "python",
   "name": "python3"
  },
  "language_info": {
   "codemirror_mode": {
    "name": "ipython",
    "version": 3
   },
   "file_extension": ".py",
   "mimetype": "text/x-python",
   "name": "python",
   "nbconvert_exporter": "python",
   "pygments_lexer": "ipython3",
   "version": "3.8.15"
  }
 },
 "nbformat": 4,
 "nbformat_minor": 5
}
