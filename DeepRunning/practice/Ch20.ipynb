{
 "cells": [
  {
   "cell_type": "markdown",
   "id": "2ec7ffd1",
   "metadata": {},
   "source": [
    "    전이학습"
   ]
  },
  {
   "cell_type": "code",
   "execution_count": 1,
   "id": "086d87f0",
   "metadata": {},
   "outputs": [],
   "source": [
    "from tensorflow.keras import models, layers, optimizers\n",
    "from tensorflow.keras.preprocessing.image import ImageDataGenerator\n",
    "from tensorflow.keras.callbacks import EarlyStopping\n",
    "import numpy as np\n",
    "import matplotlib.pyplot as plt\n",
    "import os\n",
    "os.environ[\"KMP_DUPLICATE_LIB_OK\"]='TRUE'"
   ]
  },
  {
   "cell_type": "code",
   "execution_count": 2,
   "id": "415a8af8",
   "metadata": {},
   "outputs": [],
   "source": [
    "BATCH_SIZE=5"
   ]
  },
  {
   "cell_type": "code",
   "execution_count": 5,
   "id": "533af0d8",
   "metadata": {},
   "outputs": [
    {
     "name": "stdout",
     "output_type": "stream",
     "text": [
      "Found 160 images belonging to 2 classes.\n",
      "Found 120 images belonging to 2 classes.\n"
     ]
    }
   ],
   "source": [
    "train_datagen = ImageDataGenerator(rescale=1./255,          # 주어진 이미지의 크기를 설정합니다.\n",
    "                                  horizontal_flip=True,     # 수평 대칭 이미지를 50% 확률로 만들어 추가합니다.\n",
    "                                  width_shift_range=0.1,    # 전체 크기의 15% 범위에서 좌우로 이동합니다.\n",
    "                                  height_shift_range=0.1,   # 마찬가지로 위, 아래로 이동합니다.\n",
    "                                  #rotation_range=5,        # 정해진 각도만큼 회전시킵니다.\n",
    "                                  #shear_range=0.7,         # 좌표 하나를 고정시키고 나머지를 이동시킵니다.\n",
    "                                  #zoom_range=1.2,          # 확대 또는 축소시킵니다.\n",
    "                                  #vertical_flip=True,      # 수직 대칭 이미지를 만듭니다.\n",
    "                                  #fill_mode='nearest'      # 빈 공간을 채우는 방법입니다. nearest 옵션은 가장 비슷한 색으로 채우게 됩니다.\n",
    "                                  )      \n",
    "\n",
    "train_generator = train_datagen.flow_from_directory(\n",
    "       '../data/data/train',   # 학습셋이 있는 폴더의 위치입니다.\n",
    "       target_size=(150, 150),\n",
    "       batch_size=BATCH_SIZE,\n",
    "       class_mode='binary')\n",
    "\n",
    "test_datagen = ImageDataGenerator(rescale=1./255)  \n",
    "\n",
    "test_generator = test_datagen.flow_from_directory(\n",
    "       '../data/data/test',   # 테스트셋이 있는 폴더의 위치입니다.\n",
    "       target_size=(150, 150),\n",
    "       batch_size=BATCH_SIZE,\n",
    "       class_mode='binary')"
   ]
  },
  {
   "cell_type": "code",
   "execution_count": 7,
   "id": "ccb6573c",
   "metadata": {},
   "outputs": [
    {
     "name": "stdout",
     "output_type": "stream",
     "text": [
      "Model: \"sequential_1\"\n",
      "_________________________________________________________________\n",
      " Layer (type)                Output Shape              Param #   \n",
      "=================================================================\n",
      " conv2d_1 (Conv2D)           (None, 148, 148, 32)      896       \n",
      "                                                                 \n",
      " activation_1 (Activation)   (None, 148, 148, 32)      0         \n",
      "                                                                 \n",
      " max_pooling2d (MaxPooling2D  (None, 74, 74, 32)       0         \n",
      " )                                                               \n",
      "                                                                 \n",
      " conv2d_2 (Conv2D)           (None, 72, 72, 32)        9248      \n",
      "                                                                 \n",
      " activation_2 (Activation)   (None, 72, 72, 32)        0         \n",
      "                                                                 \n",
      " max_pooling2d_1 (MaxPooling  (None, 36, 36, 32)       0         \n",
      " 2D)                                                             \n",
      "                                                                 \n",
      " conv2d_3 (Conv2D)           (None, 34, 34, 64)        18496     \n",
      "                                                                 \n",
      " activation_3 (Activation)   (None, 34, 34, 64)        0         \n",
      "                                                                 \n",
      " max_pooling2d_2 (MaxPooling  (None, 17, 17, 64)       0         \n",
      " 2D)                                                             \n",
      "                                                                 \n",
      " flatten (Flatten)           (None, 18496)             0         \n",
      "                                                                 \n",
      " dense (Dense)               (None, 64)                1183808   \n",
      "                                                                 \n",
      " activation_4 (Activation)   (None, 64)                0         \n",
      "                                                                 \n",
      " dropout (Dropout)           (None, 64)                0         \n",
      "                                                                 \n",
      " dense_1 (Dense)             (None, 1)                 65        \n",
      "                                                                 \n",
      " activation_5 (Activation)   (None, 1)                 0         \n",
      "                                                                 \n",
      "=================================================================\n",
      "Total params: 1,212,513\n",
      "Trainable params: 1,212,513\n",
      "Non-trainable params: 0\n",
      "_________________________________________________________________\n"
     ]
    }
   ],
   "source": [
    "model=models.Sequential()\n",
    "model.add(layers.Conv2D(32,(3,3),input_shape=(150, 150, 3)))\n",
    "model.add(layers.Activation('relu'))\n",
    "model.add(layers.MaxPool2D(pool_size=(2,2)))\n",
    "\n",
    "model.add(.Conv2D(32, (3, 3)))\n",
    "model.add(layers.Activation('relu'))\n",
    "model.add(layers.MaxPooling2D(pool_size=(2, 2)))\n",
    "\n",
    "model.add(layers.Conv2D(64, (3, 3)))\n",
    "model.add(layers.Activation('relu'))\n",
    "model.add(layers.MaxPooling2D(pool_size=(2, 2)))\n",
    "\n",
    "model.add(layers.Flatten())\n",
    "model.add(layers.Dense(64))\n",
    "model.add(layers.Activation('relu'))\n",
    "model.add(layers.Dropout(0.5))\n",
    "model.add(layers.Dense(1))\n",
    "model.add(layers.Activation('sigmoid'))\n",
    "model.summary()"
   ]
  },
  {
   "cell_type": "code",
   "execution_count": 10,
   "id": "6245faf2",
   "metadata": {},
   "outputs": [],
   "source": [
    "model.compile(loss='binary_crossentropy',\n",
    "              optimizer=optimizers.Adam(learning_rate=0.0002),\n",
    "             metrics=['accuracy'])"
   ]
  },
  {
   "cell_type": "code",
   "execution_count": 11,
   "id": "e306601d",
   "metadata": {},
   "outputs": [],
   "source": [
    "early_stopping=EarlyStopping(monitor='val_loss',patience=5)"
   ]
  },
  {
   "cell_type": "code",
   "execution_count": 13,
   "id": "8f9c901f",
   "metadata": {
    "scrolled": true
   },
   "outputs": [
    {
     "name": "stdout",
     "output_type": "stream",
     "text": [
      "Epoch 1/100\n",
      "32/32 [==============================] - 3s 68ms/step - loss: 0.7007 - accuracy: 0.4688 - val_loss: 0.6889 - val_accuracy: 0.5000\n",
      "Epoch 2/100\n",
      "32/32 [==============================] - 2s 59ms/step - loss: 0.6928 - accuracy: 0.5688 - val_loss: 0.6824 - val_accuracy: 0.5000\n",
      "Epoch 3/100\n",
      "32/32 [==============================] - 2s 57ms/step - loss: 0.6795 - accuracy: 0.6062 - val_loss: 0.6837 - val_accuracy: 0.5000\n",
      "Epoch 4/100\n",
      "32/32 [==============================] - 2s 60ms/step - loss: 0.6772 - accuracy: 0.5688 - val_loss: 0.6667 - val_accuracy: 0.5083\n",
      "Epoch 5/100\n",
      "32/32 [==============================] - 2s 57ms/step - loss: 0.6681 - accuracy: 0.5562 - val_loss: 0.6451 - val_accuracy: 0.5417\n",
      "Epoch 6/100\n",
      "32/32 [==============================] - 2s 58ms/step - loss: 0.6535 - accuracy: 0.6125 - val_loss: 0.6546 - val_accuracy: 0.5167\n",
      "Epoch 7/100\n",
      "32/32 [==============================] - 2s 59ms/step - loss: 0.6596 - accuracy: 0.6438 - val_loss: 0.6349 - val_accuracy: 0.5583\n",
      "Epoch 8/100\n",
      "32/32 [==============================] - 2s 58ms/step - loss: 0.6141 - accuracy: 0.7125 - val_loss: 0.5727 - val_accuracy: 0.6583\n",
      "Epoch 9/100\n",
      "32/32 [==============================] - 2s 60ms/step - loss: 0.5436 - accuracy: 0.7688 - val_loss: 0.4521 - val_accuracy: 0.8583\n",
      "Epoch 10/100\n",
      "32/32 [==============================] - 2s 59ms/step - loss: 0.4550 - accuracy: 0.8313 - val_loss: 0.3702 - val_accuracy: 0.8667\n",
      "Epoch 11/100\n",
      "32/32 [==============================] - 2s 58ms/step - loss: 0.3618 - accuracy: 0.8750 - val_loss: 0.2760 - val_accuracy: 0.9500\n",
      "Epoch 12/100\n",
      "32/32 [==============================] - 2s 58ms/step - loss: 0.3322 - accuracy: 0.8750 - val_loss: 0.2374 - val_accuracy: 0.9000\n",
      "Epoch 13/100\n",
      "32/32 [==============================] - 2s 58ms/step - loss: 0.3138 - accuracy: 0.8687 - val_loss: 0.3281 - val_accuracy: 0.8083\n",
      "Epoch 14/100\n",
      "32/32 [==============================] - 2s 59ms/step - loss: 0.2787 - accuracy: 0.8750 - val_loss: 0.2645 - val_accuracy: 0.8583\n",
      "Epoch 15/100\n",
      "32/32 [==============================] - 2s 58ms/step - loss: 0.2502 - accuracy: 0.9125 - val_loss: 0.1673 - val_accuracy: 0.9500\n",
      "Epoch 16/100\n",
      "32/32 [==============================] - 2s 58ms/step - loss: 0.2247 - accuracy: 0.8938 - val_loss: 0.1550 - val_accuracy: 0.9500\n",
      "Epoch 17/100\n",
      "32/32 [==============================] - 2s 59ms/step - loss: 0.1807 - accuracy: 0.9375 - val_loss: 0.1232 - val_accuracy: 0.9667\n",
      "Epoch 18/100\n",
      "32/32 [==============================] - 2s 57ms/step - loss: 0.1892 - accuracy: 0.9312 - val_loss: 0.1854 - val_accuracy: 0.9083\n",
      "Epoch 19/100\n",
      "32/32 [==============================] - 2s 57ms/step - loss: 0.1755 - accuracy: 0.9375 - val_loss: 0.1234 - val_accuracy: 0.9667\n",
      "Epoch 20/100\n",
      "32/32 [==============================] - 2s 58ms/step - loss: 0.1846 - accuracy: 0.9438 - val_loss: 0.1294 - val_accuracy: 0.9500\n",
      "Epoch 21/100\n",
      "32/32 [==============================] - 2s 60ms/step - loss: 0.1571 - accuracy: 0.9625 - val_loss: 0.1826 - val_accuracy: 0.9083\n",
      "Epoch 22/100\n",
      "32/32 [==============================] - 2s 57ms/step - loss: 0.1986 - accuracy: 0.9187 - val_loss: 0.1171 - val_accuracy: 0.9583\n",
      "Epoch 23/100\n",
      "32/32 [==============================] - 2s 57ms/step - loss: 0.1325 - accuracy: 0.9625 - val_loss: 0.0808 - val_accuracy: 0.9833\n",
      "Epoch 24/100\n",
      "32/32 [==============================] - 2s 58ms/step - loss: 0.1337 - accuracy: 0.9500 - val_loss: 0.1201 - val_accuracy: 0.9417\n",
      "Epoch 25/100\n",
      "32/32 [==============================] - 2s 58ms/step - loss: 0.0886 - accuracy: 0.9750 - val_loss: 0.0779 - val_accuracy: 0.9667\n",
      "Epoch 26/100\n",
      "32/32 [==============================] - 2s 58ms/step - loss: 0.1050 - accuracy: 0.9438 - val_loss: 0.0895 - val_accuracy: 0.9750\n",
      "Epoch 27/100\n",
      "32/32 [==============================] - 2s 60ms/step - loss: 0.0984 - accuracy: 0.9625 - val_loss: 0.0694 - val_accuracy: 0.9833\n",
      "Epoch 28/100\n",
      "32/32 [==============================] - 2s 59ms/step - loss: 0.0919 - accuracy: 0.9750 - val_loss: 0.0667 - val_accuracy: 0.9750\n",
      "Epoch 29/100\n",
      "32/32 [==============================] - 2s 57ms/step - loss: 0.0861 - accuracy: 0.9750 - val_loss: 0.0676 - val_accuracy: 0.9833\n",
      "Epoch 30/100\n",
      "32/32 [==============================] - 2s 58ms/step - loss: 0.0748 - accuracy: 0.9812 - val_loss: 0.0597 - val_accuracy: 0.9833\n",
      "Epoch 31/100\n",
      "32/32 [==============================] - 2s 59ms/step - loss: 0.1299 - accuracy: 0.9688 - val_loss: 0.1564 - val_accuracy: 0.9250\n",
      "Epoch 32/100\n",
      "32/32 [==============================] - 2s 62ms/step - loss: 0.1294 - accuracy: 0.9500 - val_loss: 0.0605 - val_accuracy: 0.9750\n",
      "Epoch 33/100\n",
      "32/32 [==============================] - 2s 59ms/step - loss: 0.1126 - accuracy: 0.9688 - val_loss: 0.0772 - val_accuracy: 0.9750\n",
      "Epoch 34/100\n",
      "32/32 [==============================] - 2s 57ms/step - loss: 0.0719 - accuracy: 0.9750 - val_loss: 0.1439 - val_accuracy: 0.9250\n",
      "Epoch 35/100\n",
      "32/32 [==============================] - 2s 57ms/step - loss: 0.0935 - accuracy: 0.9688 - val_loss: 0.0673 - val_accuracy: 0.9750\n"
     ]
    }
   ],
   "source": [
    "history= model.fit(\n",
    "    train_generator, epochs=100,\n",
    "    validation_data=test_generator,\n",
    "    callbacks=[early_stopping]\n",
    ")"
   ]
  },
  {
   "cell_type": "code",
   "execution_count": 14,
   "id": "3d193fa0",
   "metadata": {},
   "outputs": [
    {
     "data": {
      "image/png": "[encoded data removed]",
      "text/plain": [
       "<Figure size 640x480 with 1 Axes>"
      ]
     },
     "metadata": {},
     "output_type": "display_data"
    }
   ],
   "source": [
    "y_vloss = history.history['val_loss']\n",
    "y_loss = history.history['loss']\n",
    "\n",
    "# 그래프로 표현해 봅니다.\n",
    "x_len = np.arange(len(y_loss))\n",
    "plt.plot(x_len, y_vloss, marker='.', c=\"red\", label='Testset_loss')\n",
    "plt.plot(x_len, y_loss, marker='.', c=\"blue\", label='Trainset_loss')\n",
    "\n",
    "# 그래프에 그리드를 주고 레이블을 표시하겠습니다.\n",
    "plt.legend(loc='upper right')\n",
    "plt.grid()\n",
    "plt.xlabel('epoch')\n",
    "plt.ylabel('loss')\n",
    "plt.show()"
   ]
  },
  {
   "cell_type": "markdown",
   "id": "dae8ed85",
   "metadata": {},
   "source": [
    "2. 이미 학습된 모델을 가져와서(fine tuning\n"
   ]
  },
  {
   "cell_type": "code",
   "execution_count": null,
   "id": "7628015f",
   "metadata": {},
   "outputs": [],
   "source": []
  }
 ],
 "metadata": {
  "kernelspec": {
   "display_name": "Python 3 (ipykernel)",
   "language": "python",
   "name": "python3"
  },
  "language_info": {
   "codemirror_mode": {
    "name": "ipython",
    "version": 3
   },
   "file_extension": ".py",
   "mimetype": "text/x-python",
   "name": "python",
   "nbconvert_exporter": "python",
   "pygments_lexer": "ipython3",
   "version": "3.8.15"
  }
 },
 "nbformat": 4,
 "nbformat_minor": 5
}
