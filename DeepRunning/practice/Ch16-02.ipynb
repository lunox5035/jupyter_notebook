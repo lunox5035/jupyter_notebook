{
 "cells": [
  {
   "cell_type": "markdown",
   "id": "51c72320",
   "metadata": {},
   "source": [
    "영역처리\n",
    "convolution\n",
    "    마스크로 필터링\n",
    "    \n",
    "    blurring: 뽀샵처리(회소의 점진적 변화)\n",
    "    sharping\n",
    "    \n",
    "    Edge\n",
    "        1.차분연산\n",
    "        2.1차 미분\n",
    "        3.2차 미분\n",
    "   \n",
    "    filterting\n",
    "        1.\n",
    "        2.\n"
   ]
  },
  {
   "cell_type": "code",
   "execution_count": 1,
   "id": "cf48d405",
   "metadata": {},
   "outputs": [],
   "source": [
    "from tensorflow.keras import models, layers\n",
    "from tensorflow.keras.callbacks import ModelCheckpoint, EarlyStopping\n",
    "import numpy as np\n",
    "from tensorflow.keras.datasets import mnist\n",
    "from tensorflow.keras.utils import to_categorical\n",
    "import matplotlib.pyplot as plt\n",
    "import os\n",
    "os.environ[\"KMP_DUPLICATE_LIB_OK\"]='1'"
   ]
  },
  {
   "cell_type": "code",
   "execution_count": 2,
   "id": "c7978b9a",
   "metadata": {},
   "outputs": [],
   "source": [
    "(X_train,y_train),(X_test,y_test)=mnist.load_data()\n",
    "X_train=X_train.reshape(X_train.shape[0],28,28,1).astype(float)/255\n",
    "X_test=X_test.reshape(X_test.shape[0],28,28,1).astype(float)/255\n",
    "y_train=to_categorical(y_train)\n",
    "y_test=to_categorical(y_test)"
   ]
  },
  {
   "cell_type": "code",
   "execution_count": 3,
   "id": "ffbce23f",
   "metadata": {
    "scrolled": false
   },
   "outputs": [
    {
     "name": "stdout",
     "output_type": "stream",
     "text": [
      "Model: \"sequential\"\n",
      "_________________________________________________________________\n",
      " Layer (type)                Output Shape              Param #   \n",
      "=================================================================\n",
      " conv2d (Conv2D)             (None, 26, 26, 32)        320       \n",
      "                                                                 \n",
      " conv2d_1 (Conv2D)           (None, 24, 24, 64)        18496     \n",
      "                                                                 \n",
      " max_pooling2d (MaxPooling2D  (None, 12, 12, 64)       0         \n",
      " )                                                               \n",
      "                                                                 \n",
      " dropout (Dropout)           (None, 12, 12, 64)        0         \n",
      "                                                                 \n",
      " flatten (Flatten)           (None, 9216)              0         \n",
      "                                                                 \n",
      " dense (Dense)               (None, 128)               1179776   \n",
      "                                                                 \n",
      " dropout_1 (Dropout)         (None, 128)               0         \n",
      "                                                                 \n",
      " dense_1 (Dense)             (None, 10)                1290      \n",
      "                                                                 \n",
      "=================================================================\n",
      "Total params: 1,199,882\n",
      "Trainable params: 1,199,882\n",
      "Non-trainable params: 0\n",
      "_________________________________________________________________\n"
     ]
    }
   ],
   "source": [
    "model =models.Sequential()\n",
    "model.add(layers.Conv2D(32,kernel_size=(3,3),input_shape=(28,28,1),activation='relu'))\n",
    "model.add(layers.Conv2D(64,kernel_size=(3,3),activation='relu'))\n",
    "model.add(layers.MaxPooling2D(pool_size=(2,2)))#모자이크\n",
    "model.add(layers.Dropout(0.25))#배치마다 랜덤하게 25%를 연결해제\n",
    "model.add(layers.Flatten())\n",
    "model.add(layers.Dense(128,activation='relu'))\n",
    "model.add(layers.Dropout(0.25))\n",
    "model.add(layers.Dense(10,activation='softmax'))\n",
    "model.summary()"
   ]
  },
  {
   "cell_type": "markdown",
   "id": "4a36eb21",
   "metadata": {},
   "source": [
    "\n",
    "model.add(layers.Conv2D(32,kernel_size=(3,3),input_shape=(28,28,1),activation='relu'))\n",
    "\n",
    "1체널=28*28\n",
    "커널=3*3\n",
    "bias 32\n",
    "f(x)=relu\n",
    "=26*26\n",
    "\n",
    "(입력수*((커널*커널)+1)*출력수)=파라미터\n",
    "Flatten="
   ]
  },
  {
   "cell_type": "code",
   "execution_count": 5,
   "id": "46b89fa8",
   "metadata": {
    "scrolled": true
   },
   "outputs": [],
   "source": [
    "model.compile(loss='categorical_crossentropy',optimizer='adam',\n",
    "             metrics=['accuracy'])"
   ]
  },
  {
   "cell_type": "code",
   "execution_count": 6,
   "id": "aeffe897",
   "metadata": {},
   "outputs": [
    {
     "name": "stdout",
     "output_type": "stream",
     "text": [
      "Epoch 1/30\n",
      "225/225 [==============================] - 23s 99ms/step - loss: 0.2701 - accuracy: 0.9211 - val_loss: 0.0711 - val_accuracy: 0.9787\n",
      "Epoch 2/30\n",
      "225/225 [==============================] - 22s 98ms/step - loss: 0.0724 - accuracy: 0.9772 - val_loss: 0.0538 - val_accuracy: 0.9838\n",
      "Epoch 3/30\n",
      "225/225 [==============================] - 24s 106ms/step - loss: 0.0487 - accuracy: 0.9846 - val_loss: 0.0470 - val_accuracy: 0.9862\n",
      "Epoch 4/30\n",
      "225/225 [==============================] - 22s 99ms/step - loss: 0.0364 - accuracy: 0.9880 - val_loss: 0.0477 - val_accuracy: 0.9861\n",
      "Epoch 5/30\n",
      "225/225 [==============================] - 22s 100ms/step - loss: 0.0288 - accuracy: 0.9906 - val_loss: 0.0492 - val_accuracy: 0.9854\n",
      "Epoch 6/30\n",
      "225/225 [==============================] - 23s 102ms/step - loss: 0.0242 - accuracy: 0.9918 - val_loss: 0.0452 - val_accuracy: 0.9865\n",
      "Epoch 7/30\n",
      "225/225 [==============================] - 23s 101ms/step - loss: 0.0225 - accuracy: 0.9925 - val_loss: 0.0460 - val_accuracy: 0.9871\n",
      "Epoch 8/30\n",
      "225/225 [==============================] - 22s 99ms/step - loss: 0.0162 - accuracy: 0.9942 - val_loss: 0.0427 - val_accuracy: 0.9883\n",
      "Epoch 9/30\n",
      "225/225 [==============================] - 22s 99ms/step - loss: 0.0152 - accuracy: 0.9945 - val_loss: 0.0480 - val_accuracy: 0.9868\n",
      "Epoch 10/30\n",
      "225/225 [==============================] - 23s 102ms/step - loss: 0.0139 - accuracy: 0.9955 - val_loss: 0.0526 - val_accuracy: 0.9865\n",
      "Epoch 11/30\n",
      "225/225 [==============================] - 23s 103ms/step - loss: 0.0116 - accuracy: 0.9960 - val_loss: 0.0438 - val_accuracy: 0.9891\n",
      "Epoch 12/30\n",
      "225/225 [==============================] - 23s 101ms/step - loss: 0.0129 - accuracy: 0.9955 - val_loss: 0.0493 - val_accuracy: 0.9893\n",
      "Epoch 13/30\n",
      "225/225 [==============================] - 22s 99ms/step - loss: 0.0113 - accuracy: 0.9962 - val_loss: 0.0491 - val_accuracy: 0.9893\n",
      "Epoch 14/30\n",
      "225/225 [==============================] - 23s 101ms/step - loss: 0.0097 - accuracy: 0.9968 - val_loss: 0.0488 - val_accuracy: 0.9889\n",
      "Epoch 15/30\n",
      "225/225 [==============================] - 23s 102ms/step - loss: 0.0085 - accuracy: 0.9972 - val_loss: 0.0478 - val_accuracy: 0.9897\n",
      "Epoch 16/30\n",
      "225/225 [==============================] - 23s 102ms/step - loss: 0.0096 - accuracy: 0.9967 - val_loss: 0.0493 - val_accuracy: 0.9893\n",
      "Epoch 17/30\n",
      "225/225 [==============================] - 23s 100ms/step - loss: 0.0078 - accuracy: 0.9972 - val_loss: 0.0508 - val_accuracy: 0.9894\n",
      "Epoch 18/30\n",
      "225/225 [==============================] - 23s 102ms/step - loss: 0.0083 - accuracy: 0.9972 - val_loss: 0.0499 - val_accuracy: 0.9892\n"
     ]
    }
   ],
   "source": [
    "eatly_stop = EarlyStopping(monitor='val_loss',patience=10)\n",
    "\n",
    "history=model.fit(X_train,y_train, epochs=30,batch_size=200,\n",
    "          validation_split=0.25,callbacks=[eatly_stop])"
   ]
  },
  {
   "cell_type": "code",
   "execution_count": 7,
   "id": "e4e92ace",
   "metadata": {},
   "outputs": [
    {
     "name": "stdout",
     "output_type": "stream",
     "text": [
      "313/313 [==============================] - 2s 5ms/step - loss: 0.0326 - accuracy: 0.9916\n",
      "Test Accuracy: 0.9916\n"
     ]
    }
   ],
   "source": [
    "print('Test Accuracy: %.4f'%(model.evaluate(X_test,y_test)[1]))"
   ]
  },
  {
   "cell_type": "code",
   "execution_count": 8,
   "id": "cce59676",
   "metadata": {},
   "outputs": [
    {
     "data": {
      "image/png": "[encoded data removed]",
      "text/plain": [
       "<Figure size 640x480 with 1 Axes>"
      ]
     },
     "metadata": {},
     "output_type": "display_data"
    }
   ],
   "source": [
    "# 검증셋과 학습셋의 오차를 저장합니다. \n",
    "y_vloss = history.history['val_loss']\n",
    "y_loss = history.history['loss']\n",
    "\n",
    "# 그래프로 표현해 봅니다.\n",
    "x_len = np.arange(len(y_loss))\n",
    "plt.plot(x_len, y_vloss, marker='.', c=\"red\", label='Testset_loss')\n",
    "plt.plot(x_len, y_loss, marker='.', c=\"blue\", label='Trainset_loss')\n",
    "\n",
    "# 그래프에 그리드를 주고 레이블을 표시해 보겠습니다.\n",
    "plt.legend(loc='upper right')\n",
    "plt.grid()\n",
    "plt.xlabel('epoch')\n",
    "plt.ylabel('loss')\n",
    "plt.show()"
   ]
  },
  {
   "cell_type": "code",
   "execution_count": null,
   "id": "5c57ca89",
   "metadata": {},
   "outputs": [],
   "source": []
  }
 ],
 "metadata": {
  "kernelspec": {
   "display_name": "Python 3 (ipykernel)",
   "language": "python",
   "name": "python3"
  },
  "language_info": {
   "codemirror_mode": {
    "name": "ipython",
    "version": 3
   },
   "file_extension": ".py",
   "mimetype": "text/x-python",
   "name": "python",
   "nbconvert_exporter": "python",
   "pygments_lexer": "ipython3",
   "version": "3.8.15"
  }
 },
 "nbformat": 4,
 "nbformat_minor": 5
}
