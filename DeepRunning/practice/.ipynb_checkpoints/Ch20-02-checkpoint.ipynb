{
 "cells": [
  {
   "cell_type": "code",
   "execution_count": 1,
   "id": "fccaee27",
   "metadata": {},
   "outputs": [],
   "source": [
    "from tensorflow.keras import models, layers, optimizers\n",
    "from tensorflow.keras.preprocessing.image import ImageDataGenerator\n",
    "from tensorflow.keras.callbacks import EarlyStopping\n",
    "import numpy as np\n",
    "import matplotlib.pyplot as plt\n",
    "import os\n",
    "os.environ[\"KMP_DUPLICATE_LIB_OK\"]='TRUE'\n",
    "from tensorflow.keras.applications import VGG16"
   ]
  },
  {
   "cell_type": "code",
   "execution_count": 2,
   "id": "a328190d",
   "metadata": {},
   "outputs": [],
   "source": [
    "BATCH_SIZE=5"
   ]
  },
  {
   "cell_type": "code",
   "execution_count": 3,
   "id": "312cea1f",
   "metadata": {},
   "outputs": [
    {
     "name": "stdout",
     "output_type": "stream",
     "text": [
      "Found 160 images belonging to 2 classes.\n",
      "Found 120 images belonging to 2 classes.\n"
     ]
    }
   ],
   "source": [
    "train_datagen = ImageDataGenerator(rescale=1./255,          # 주어진 이미지의 크기를 설정합니다.\n",
    "                                  horizontal_flip=True,     # 수평 대칭 이미지를 50% 확률로 만들어 추가합니다.\n",
    "                                  width_shift_range=0.1,    # 전체 크기의 15% 범위에서 좌우로 이동합니다.\n",
    "                                  height_shift_range=0.1,   # 마찬가지로 위, 아래로 이동합니다.\n",
    "                                  #rotation_range=5,        # 정해진 각도만큼 회전시킵니다.\n",
    "                                  #shear_range=0.7,         # 좌표 하나를 고정시키고 나머지를 이동시킵니다.\n",
    "                                  #zoom_range=1.2,          # 확대 또는 축소시킵니다.\n",
    "                                  #vertical_flip=True,      # 수직 대칭 이미지를 만듭니다.\n",
    "                                  #fill_mode='nearest'      # 빈 공간을 채우는 방법입니다. nearest 옵션은 가장 비슷한 색으로 채우게 됩니다.\n",
    "                                  )      \n",
    "\n",
    "train_generator = train_datagen.flow_from_directory(\n",
    "       '../data/data/train',   # 학습셋이 있는 폴더의 위치입니다.\n",
    "       target_size=(150, 150),\n",
    "       batch_size=BATCH_SIZE,\n",
    "       class_mode='binary')\n",
    "\n",
    "test_datagen = ImageDataGenerator(rescale=1./255)  \n",
    "\n",
    "test_generator = test_datagen.flow_from_directory(\n",
    "       '../data/data/test',   # 테스트셋이 있는 폴더의 위치입니다.\n",
    "       target_size=(150, 150),\n",
    "       batch_size=BATCH_SIZE,\n",
    "    class_mode='binary')"
   ]
  },
  {
   "cell_type": "code",
   "execution_count": 5,
   "id": "5618533a",
   "metadata": {},
   "outputs": [
    {
     "name": "stdout",
     "output_type": "stream",
     "text": [
      "Downloading data from https://storage.googleapis.com/tensorflow/keras-applications/vgg16/vgg16_weights_tf_dim_ordering_tf_kernels_notop.h5\n",
      "58889256/58889256 [==============================] - 1s 0us/step\n",
      "Model: \"vgg16\"\n",
      "_________________________________________________________________\n",
      " Layer (type)                Output Shape              Param #   \n",
      "=================================================================\n",
      " input_1 (InputLayer)        [(None, 150, 150, 3)]     0         \n",
      "                                                                 \n",
      " block1_conv1 (Conv2D)       (None, 150, 150, 64)      1792      \n",
      "                                                                 \n",
      " block1_conv2 (Conv2D)       (None, 150, 150, 64)      36928     \n",
      "                                                                 \n",
      " block1_pool (MaxPooling2D)  (None, 75, 75, 64)        0         \n",
      "                                                                 \n",
      " block2_conv1 (Conv2D)       (None, 75, 75, 128)       73856     \n",
      "                                                                 \n",
      " block2_conv2 (Conv2D)       (None, 75, 75, 128)       147584    \n",
      "                                                                 \n",
      " block2_pool (MaxPooling2D)  (None, 37, 37, 128)       0         \n",
      "                                                                 \n",
      " block3_conv1 (Conv2D)       (None, 37, 37, 256)       295168    \n",
      "                                                                 \n",
      " block3_conv2 (Conv2D)       (None, 37, 37, 256)       590080    \n",
      "                                                                 \n",
      " block3_conv3 (Conv2D)       (None, 37, 37, 256)       590080    \n",
      "                                                                 \n",
      " block3_pool (MaxPooling2D)  (None, 18, 18, 256)       0         \n",
      "                                                                 \n",
      " block4_conv1 (Conv2D)       (None, 18, 18, 512)       1180160   \n",
      "                                                                 \n",
      " block4_conv2 (Conv2D)       (None, 18, 18, 512)       2359808   \n",
      "                                                                 \n",
      " block4_conv3 (Conv2D)       (None, 18, 18, 512)       2359808   \n",
      "                                                                 \n",
      " block4_pool (MaxPooling2D)  (None, 9, 9, 512)         0         \n",
      "                                                                 \n",
      " block5_conv1 (Conv2D)       (None, 9, 9, 512)         2359808   \n",
      "                                                                 \n",
      " block5_conv2 (Conv2D)       (None, 9, 9, 512)         2359808   \n",
      "                                                                 \n",
      " block5_conv3 (Conv2D)       (None, 9, 9, 512)         2359808   \n",
      "                                                                 \n",
      " block5_pool (MaxPooling2D)  (None, 4, 4, 512)         0         \n",
      "                                                                 \n",
      "=================================================================\n",
      "Total params: 14,714,688\n",
      "Trainable params: 0\n",
      "Non-trainable params: 14,714,688\n",
      "_________________________________________________________________\n"
     ]
    }
   ],
   "source": [
    "transfer_model=VGG16(weights='imagenet', include_top=False,\n",
    "                    input_shape=(150, 150, 3))\n",
    "transfer_model.trainable=False\n",
    "transfer_model.summary()"
   ]
  },
  {
   "cell_type": "code",
   "execution_count": 11,
   "id": "a4123693",
   "metadata": {},
   "outputs": [],
   "source": [
    "finetune_model=models.Sequential()\n",
    "finetune_model.add(transfer_model)\n",
    "finetune_model.add(layers.Flatten())\n",
    "finetune_model.add(layers.Dense(64))\n",
    "finetune_model.add(layers.Activation('relu'))\n",
    "finetune_model.add(layers.Dropout(0.5))\n",
    "finetune_model.add(layers.Dense(1))\n",
    "finetune_model.add(layers.Activation('sigmoid'))\n"
   ]
  },
  {
   "cell_type": "code",
   "execution_count": 12,
   "id": "b69aac42",
   "metadata": {},
   "outputs": [],
   "source": [
    "finetune_model.compile(loss='binary_crossentropy',\n",
    "              optimizer=optimizers.Adam(learning_rate=0.0002),\n",
    "             metrics=['accuracy'])\n",
    "\n",
    "early_stopping=EarlyStopping(monitor='val_loss',patience=5)"
   ]
  },
  {
   "cell_type": "code",
   "execution_count": 13,
   "id": "3f6c6eb3",
   "metadata": {
    "scrolled": false
   },
   "outputs": [
    {
     "name": "stdout",
     "output_type": "stream",
     "text": [
      "Epoch 1/20\n",
      "32/32 [==============================] - 16s 479ms/step - loss: 0.7771 - accuracy: 0.5250 - val_loss: 0.6026 - val_accuracy: 0.5833\n",
      "Epoch 2/20\n",
      "32/32 [==============================] - 14s 435ms/step - loss: 0.5462 - accuracy: 0.7000 - val_loss: 0.4655 - val_accuracy: 0.8583\n",
      "Epoch 3/20\n",
      "32/32 [==============================] - 14s 433ms/step - loss: 0.4399 - accuracy: 0.8125 - val_loss: 0.4632 - val_accuracy: 0.7833\n",
      "Epoch 4/20\n",
      "32/32 [==============================] - 14s 442ms/step - loss: 0.4270 - accuracy: 0.7688 - val_loss: 0.3370 - val_accuracy: 0.9167\n",
      "Epoch 5/20\n",
      "32/32 [==============================] - 14s 430ms/step - loss: 0.3644 - accuracy: 0.8687 - val_loss: 0.3270 - val_accuracy: 0.8667\n",
      "Epoch 6/20\n",
      "32/32 [==============================] - 14s 432ms/step - loss: 0.3476 - accuracy: 0.8438 - val_loss: 0.2808 - val_accuracy: 0.9167\n",
      "Epoch 7/20\n",
      "32/32 [==============================] - 14s 429ms/step - loss: 0.2701 - accuracy: 0.9500 - val_loss: 0.2650 - val_accuracy: 0.9000\n",
      "Epoch 8/20\n",
      "32/32 [==============================] - 14s 429ms/step - loss: 0.2575 - accuracy: 0.9187 - val_loss: 0.2378 - val_accuracy: 0.9000\n",
      "Epoch 9/20\n",
      "32/32 [==============================] - 14s 429ms/step - loss: 0.2384 - accuracy: 0.9125 - val_loss: 0.2809 - val_accuracy: 0.8750\n",
      "Epoch 10/20\n",
      "32/32 [==============================] - 14s 435ms/step - loss: 0.2143 - accuracy: 0.9563 - val_loss: 0.2035 - val_accuracy: 0.9417\n",
      "Epoch 11/20\n",
      "32/32 [==============================] - 15s 462ms/step - loss: 0.2305 - accuracy: 0.9375 - val_loss: 0.1983 - val_accuracy: 0.9333\n",
      "Epoch 12/20\n",
      "32/32 [==============================] - 14s 440ms/step - loss: 0.2044 - accuracy: 0.9438 - val_loss: 0.2028 - val_accuracy: 0.9167\n",
      "Epoch 13/20\n",
      "32/32 [==============================] - 14s 435ms/step - loss: 0.2080 - accuracy: 0.9312 - val_loss: 0.1718 - val_accuracy: 0.9583\n",
      "Epoch 14/20\n",
      "32/32 [==============================] - 14s 432ms/step - loss: 0.2085 - accuracy: 0.9438 - val_loss: 0.1621 - val_accuracy: 0.9667\n",
      "Epoch 15/20\n",
      "32/32 [==============================] - 14s 431ms/step - loss: 0.2043 - accuracy: 0.9375 - val_loss: 0.1520 - val_accuracy: 0.9667\n",
      "Epoch 16/20\n",
      "32/32 [==============================] - 14s 434ms/step - loss: 0.1607 - accuracy: 0.9563 - val_loss: 0.1428 - val_accuracy: 0.9750\n",
      "Epoch 17/20\n",
      "32/32 [==============================] - 14s 440ms/step - loss: 0.1700 - accuracy: 0.9500 - val_loss: 0.1435 - val_accuracy: 0.9583\n",
      "Epoch 18/20\n",
      "32/32 [==============================] - 14s 441ms/step - loss: 0.1725 - accuracy: 0.9563 - val_loss: 0.1460 - val_accuracy: 0.9667\n",
      "Epoch 19/20\n",
      "32/32 [==============================] - 14s 430ms/step - loss: 0.1609 - accuracy: 0.9625 - val_loss: 0.1593 - val_accuracy: 0.9333\n",
      "Epoch 20/20\n",
      "32/32 [==============================] - 14s 440ms/step - loss: 0.1458 - accuracy: 0.9688 - val_loss: 0.1418 - val_accuracy: 0.9500\n"
     ]
    }
   ],
   "source": [
    "history= finetune_model.fit(\n",
    "    train_generator, epochs=20,\n",
    "    validation_data=test_generator,\n",
    "    callbacks=[early_stopping]\n",
    ")"
   ]
  },
  {
   "cell_type": "code",
   "execution_count": null,
   "id": "b68c7d55",
   "metadata": {},
   "outputs": [],
   "source": []
  },
  {
   "cell_type": "code",
   "execution_count": null,
   "id": "985a5fc5",
   "metadata": {},
   "outputs": [],
   "source": []
  }
 ],
 "metadata": {
  "kernelspec": {
   "display_name": "Python 3 (ipykernel)",
   "language": "python",
   "name": "python3"
  },
  "language_info": {
   "codemirror_mode": {
    "name": "ipython",
    "version": 3
   },
   "file_extension": ".py",
   "mimetype": "text/x-python",
   "name": "python",
   "nbconvert_exporter": "python",
   "pygments_lexer": "ipython3",
   "version": "3.8.15"
  }
 },
 "nbformat": 4,
 "nbformat_minor": 5
}
