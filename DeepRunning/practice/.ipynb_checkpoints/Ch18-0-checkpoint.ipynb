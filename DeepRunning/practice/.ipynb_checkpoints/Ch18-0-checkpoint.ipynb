{
 "cells": [
  {
   "cell_type": "code",
   "execution_count": null,
   "id": "8ef0cb2f",
   "metadata": {},
   "outputs": [],
   "source": [
    "import tensorflow as tf\n",
    "from tensorflow.keras.preprocessing.sequence import pad_sequences\n",
    "from tensorflow.keras.callbacks import ModelCheckpoint, EarlyStopping\n",
    "from tensorflow.keras import layers\n",
    "import numpy as np\n",
    "import pandas as pd\n",
    "import os\n",
    "import json\n",
    "os.environ[\"KMP_DUPLICATE_LIB_OK\"]='1'"
   ]
  },
  {
   "cell_type": "code",
   "execution_count": null,
   "id": "a406bfb0",
   "metadata": {},
   "outputs": [],
   "source": [
    "def plot_graphs (history,string):\n",
    "    plt.plot(history,history[string])\n",
    "    plt.plot(history,history['val_'+string],'')\n",
    "    plt.xlabel('Epochs')\n",
    "    plt.ylabel(string)\n",
    "    plt.legend([string, 'val_'+string])\n",
    "    plt.show()"
   ]
  },
  {
   "cell_type": "code",
   "execution_count": null,
   "id": "82384864",
   "metadata": {},
   "outputs": [],
   "source": [
    "DATA_IN_PATH = '../data-in/'\n",
    "DATA_OUT_PATH = '../data-out/'\n",
    "INPUT_TRAIN_DATA = 'nsmc_train_input.npy'\n",
    "LABEL_TRAIN_DATA = 'nsmc_train_label.npy'\n",
    "DATA_CONFIGS = 'nsmc_data_configs.json'"
   ]
  },
  {
   "cell_type": "code",
   "execution_count": null,
   "id": "b569ad39",
   "metadata": {},
   "outputs": [],
   "source": [
    "SEED_NUM=1234\n",
    "tf.random.set_seed(SEED_NUM)"
   ]
  },
  {
   "cell_type": "code",
   "execution_count": null,
   "id": "b1120276",
   "metadata": {},
   "outputs": [],
   "source": [
    "train_input=np.load(open(DATA_IN_PATH + INPUT_TRAIN_DATA, 'rb'))\n",
    "train_label=np.load(open(DATA_IN_PATH + LABEL_TRAIN_DATA,'rb'))\n",
    "prepro_configs=json.load(open(DATA_IN_PATH + DATA_CONFIGS, 'r'))"
   ]
  },
  {
   "cell_type": "markdown",
   "id": "7f0fbaad",
   "metadata": {},
   "source": [
    "0. 인베딩 레이어\n",
    "\n",
    "1. \n",
    "\n",
    "컴펄루션 연산\n",
    "\n",
    "서브플레이싱\n"
   ]
  },
  {
   "cell_type": "code",
   "execution_count": null,
   "id": "8a6665fd",
   "metadata": {},
   "outputs": [],
   "source": [
    "model_name='cnn_classifier_kr'\n",
    "BATCH_SIZE=512\n",
    "NUM_POCHS=10\n",
    "VALID_SPLIT=0.1\n",
    "MAX_LEN=train_input.shape[1]\n",
    "\n",
    "kargs={\n",
    "    'model_name': model_name,\n",
    "    'vacab_size': prepro_configs['vocab_size'],\n",
    "    'embedding_size':128,\n",
    "    'num_filters': 100,\n",
    "    'dropout_rate': 0.5,\n",
    "    'hidden_dimension': 250,\n",
    "    'output_dimension': 1\n",
    "}"
   ]
  },
  {
   "cell_type": "code",
   "execution_count": null,
   "id": "34d1421c",
   "metadata": {},
   "outputs": [],
   "source": [
    "class CNNClassifier(tf.keras.Model):\n",
    "    def __init__(self,**kargs):\n",
    "        super(CNNClassifier,self).__init__(name=kargs['model_name'])\n",
    "        self.embedding=layers.Embedding(kargs['vacab_size']+1, \n",
    "                                        kargs['embedding_size'])\n",
    "        self.conv_list=[\n",
    "            layers.Conv1D(kargs['num_filters'],kernel_size=kernel_size,\n",
    "                         padding='valid',activation='ralu', \n",
    "                         kernel_constraint=tf.keras.constraints.MaxNorm(max_value=3.))\n",
    "                                                                         #최댓값 3설정\n",
    "            for kernel_size in [3,4,5]            \n",
    "        ]\n",
    "        self.pooling =layers.GlobalMaxPooling1D()\n",
    "        self.dropout =layers.Dropout(kargs['dropout_rate'])\n",
    "        self.fc1=layers.Dense(kargs['hidden_dimension'],ativation='ralu', \n",
    "                         kernel_constraint=tf.keras.constraints.MaxNorm(max_value=3.))\n",
    "        self.fc2=layers.Dense(kargs['output_dimension'],ativation='sigmoid', \n",
    "                         kernel_constraint=tf.keras.constraints.MaxNorm(max_value=3.))\n",
    "        \n",
    "        def call(self,x):\n",
    "            x=self.embedding(x)\n",
    "            x=self.dropout(x)\n",
    "            x=tf.concat([self.pooling(conv(x)) for conv in self.conv_self], axis=1)\n",
    "            x=self.fc1(x)\n",
    "            x=self.fc2(x)\n",
    "            return x"
   ]
  },
  {
   "cell_type": "code",
   "execution_count": null,
   "id": "d749994d",
   "metadata": {},
   "outputs": [],
   "source": [
    "model =CNNClassifier(**kargs)\n",
    "model.complie(loss='binary_crossentropt',optimizer='adam',metrics=['accuracy'])"
   ]
  },
  {
   "cell_type": "code",
   "execution_count": null,
   "id": "305ada68",
   "metadata": {},
   "outputs": [],
   "source": [
    "early_stop = EarlyStopping(monitor='val_accuracy',min_delta+0.0001,\n",
    "                          patience=3)\n",
    "\n",
    "chackpoint_path=DATA_OUT_PATH+model_name+'weights.h5'\n",
    "chackpoint_dir = os.path.dirname(chackpoint_path)\n",
    "\n",
    "if not os.path.exists(chackpoint_dir):\n",
    "    os.mkdir(chackpoint_dir)\n",
    "    \n",
    "modek_checkpoint=ModelCheckpoint(chackpoint_path,monitor='val_accuracy',\n",
    "                                verbose=1, save_best_only=True,\n",
    "                                save_weights_only=True)"
   ]
  },
  {
   "cell_type": "code",
   "execution_count": null,
   "id": "41a5a109",
   "metadata": {},
   "outputs": [],
   "source": [
    "history=model.fit(train_input,train_label,batch_size=BATCH_SIZE,\n",
    "                 epochs=NUM_POCHS,validation_split=VALID_SPLIT,\n",
    "                 callbacks=[early_stop,modek_checkpoint])"
   ]
  }
 ],
 "metadata": {
  "kernelspec": {
   "display_name": "Python 3 (ipykernel)",
   "language": "python",
   "name": "python3"
  },
  "language_info": {
   "codemirror_mode": {
    "name": "ipython",
    "version": 3
   },
   "file_extension": ".py",
   "mimetype": "text/x-python",
   "name": "python",
   "nbconvert_exporter": "python",
   "pygments_lexer": "ipython3",
   "version": "3.8.15"
  }
 },
 "nbformat": 4,
 "nbformat_minor": 5
}
