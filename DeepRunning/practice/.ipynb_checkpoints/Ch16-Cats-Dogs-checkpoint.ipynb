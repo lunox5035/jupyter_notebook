{
 "cells": [
  {
   "cell_type": "code",
   "execution_count": 1,
   "id": "26528ac7",
   "metadata": {},
   "outputs": [],
   "source": [
    "import os, shutil"
   ]
  },
  {
   "cell_type": "markdown",
   "id": "9b5f762c",
   "metadata": {},
   "source": [
    "폴더 생성"
   ]
  },
  {
   "cell_type": "code",
   "execution_count": 2,
   "id": "ade586fa",
   "metadata": {
    "scrolled": true
   },
   "outputs": [],
   "source": [
    "#원본 사진 폴더 지정\n",
    "original_dataset_dir='../data/train'\n",
    "\n",
    "#복사 폴더 생성\n",
    "base_dir='../data/cats_and_dogs'\n",
    "if not os.path.exists(base_dir):\n",
    "    os.mkdir(base_dir)"
   ]
  },
  {
   "cell_type": "code",
   "execution_count": 3,
   "id": "6a1538d0",
   "metadata": {},
   "outputs": [],
   "source": [
    "#test/ train 폴더 생성\n",
    "train_dir=os.path.join(base_dir,'train')\n",
    "os.mkdir(train_dir)\n",
    "test_dir=os.path.join(base_dir,'test')\n",
    "os.mkdir(test_dir)"
   ]
  },
  {
   "cell_type": "code",
   "execution_count": 4,
   "id": "a331331b",
   "metadata": {},
   "outputs": [],
   "source": [
    "#train 내부 분류폴더 생성\n",
    "train_cats_dir=os.path.join(train_dir,'cats')\n",
    "os.mkdir(train_cats_dir)\n",
    "train_dogs_dir=os.path.join(train_dir,'dogs')\n",
    "os.mkdir(train_dogs_dir)"
   ]
  },
  {
   "cell_type": "code",
   "execution_count": 5,
   "id": "d76471dd",
   "metadata": {},
   "outputs": [],
   "source": [
    "#test 내부 분류폴더 생성\n",
    "test_cats_dir=os.path.join(test_dir,'cats')\n",
    "os.mkdir(test_cats_dir)\n",
    "test_dogs_dir=os.path.join(test_dir,'dogs')\n",
    "os.mkdir(test_dogs_dir)"
   ]
  },
  {
   "cell_type": "markdown",
   "id": "5b86a84e",
   "metadata": {},
   "source": [
    "사진 복사"
   ]
  },
  {
   "cell_type": "code",
   "execution_count": 6,
   "id": "c368bc3c",
   "metadata": {},
   "outputs": [],
   "source": [
    "#고양이 훈련용 사진 복사\n",
    "fname=['cat.{}.jpg'.format(i) for i in range(10000)]\n",
    "for fname in fname:\n",
    "    src=os.path.join(original_dataset_dir, fname)\n",
    "    dst=os.path.join(train_cats_dir, fname)\n",
    "    shutil.copyfile(src, dst)"
   ]
  },
  {
   "cell_type": "code",
   "execution_count": 7,
   "id": "9853e29c",
   "metadata": {},
   "outputs": [],
   "source": [
    "#강아지 훈련용 사진 복사\n",
    "fname=['dog.{}.jpg'.format(i) for i in range(10000)]\n",
    "for fname in fname:\n",
    "    src=os.path.join(original_dataset_dir, fname)\n",
    "    dst=os.path.join(train_dogs_dir, fname)\n",
    "    shutil.copyfile(src, dst)"
   ]
  },
  {
   "cell_type": "code",
   "execution_count": 8,
   "id": "8a3191b6",
   "metadata": {},
   "outputs": [],
   "source": [
    "#고양이 테스트 사진 복사\n",
    "fname=['cat.{}.jpg'.format(i) for i in range(10000,12500)]\n",
    "for fname in fname:\n",
    "    src=os.path.join(original_dataset_dir, fname)\n",
    "    dst=os.path.join(test_cats_dir, fname)\n",
    "    shutil.copyfile(src, dst)"
   ]
  },
  {
   "cell_type": "code",
   "execution_count": 9,
   "id": "97a1c75b",
   "metadata": {},
   "outputs": [],
   "source": [
    "#강아지 테스트 사진 복사\n",
    "fname=['dog.{}.jpg'.format(i) for i in range(10000, 12500)]\n",
    "for fname in fname:\n",
    "    src=os.path.join(original_dataset_dir, fname)\n",
    "    dst=os.path.join(test_dogs_dir, fname)\n",
    "    shutil.copyfile(src, dst)"
   ]
  },
  {
   "cell_type": "code",
   "execution_count": 10,
   "id": "4356c173",
   "metadata": {},
   "outputs": [
    {
     "name": "stdout",
     "output_type": "stream",
     "text": [
      "훈련용 고양이 이미지 전체 개수: 10000\n",
      "훈련용 강아지 이미지 전체 개수: 10000\n",
      "테스트용 고양이 이미지 전체 개수: 2500\n",
      "테스트용 강아지 이미지 전체 개수: 2500\n"
     ]
    }
   ],
   "source": [
    "print('훈련용 고양이 이미지 전체 개수:', len(os.listdir(train_cats_dir)))\n",
    "print('훈련용 강아지 이미지 전체 개수:', len(os.listdir(train_dogs_dir)))\n",
    "print('테스트용 고양이 이미지 전체 개수:', len(os.listdir(test_cats_dir)))\n",
    "print('테스트용 강아지 이미지 전체 개수:', len(os.listdir(test_dogs_dir)))"
   ]
  },
  {
   "cell_type": "code",
   "execution_count": 11,
   "id": "48e8deac",
   "metadata": {},
   "outputs": [],
   "source": [
    "from tensorflow.keras import models, layers"
   ]
  },
  {
   "cell_type": "code",
   "execution_count": 12,
   "id": "82f3d554",
   "metadata": {},
   "outputs": [],
   "source": [
    "model= models.Sequential()\n",
    "model.add(layers.Conv2D(32,(3,3),input_shape=(150,150,3),activation='relu'))\n",
    "model.add(layers.MaxPooling2D((2,2)))\n",
    "model.add(layers.Conv2D(64,(3,3),activation='relu'))\n",
    "model.add(layers.MaxPooling2D((2,2)))\n",
    "model.add(layers.Conv2D(128,(3,3),activation='relu'))\n",
    "model.add(layers.MaxPooling2D((2,2)))\n",
    "model.add(layers.Conv2D(128,(3,3),activation='relu'))\n",
    "model.add(layers.MaxPooling2D((2,2)))\n",
    "model.add(layers.Flatten())\n",
    "model.add(layers.Dropout(0.5))\n",
    "model.add(layers.Dense(512,activation='relu'))\n",
    "model.add(layers.Dense(1,activation='sigmoid'))    "
   ]
  },
  {
   "cell_type": "code",
   "execution_count": 13,
   "id": "cb0572f0",
   "metadata": {},
   "outputs": [
    {
     "name": "stdout",
     "output_type": "stream",
     "text": [
      "Model: \"sequential\"\n",
      "_________________________________________________________________\n",
      " Layer (type)                Output Shape              Param #   \n",
      "=================================================================\n",
      " conv2d (Conv2D)             (None, 148, 148, 32)      896       \n",
      "                                                                 \n",
      " max_pooling2d (MaxPooling2D  (None, 74, 74, 32)       0         \n",
      " )                                                               \n",
      "                                                                 \n",
      " conv2d_1 (Conv2D)           (None, 72, 72, 64)        18496     \n",
      "                                                                 \n",
      " max_pooling2d_1 (MaxPooling  (None, 36, 36, 64)       0         \n",
      " 2D)                                                             \n",
      "                                                                 \n",
      " conv2d_2 (Conv2D)           (None, 34, 34, 128)       73856     \n",
      "                                                                 \n",
      " max_pooling2d_2 (MaxPooling  (None, 17, 17, 128)      0         \n",
      " 2D)                                                             \n",
      "                                                                 \n",
      " conv2d_3 (Conv2D)           (None, 15, 15, 128)       147584    \n",
      "                                                                 \n",
      " max_pooling2d_3 (MaxPooling  (None, 7, 7, 128)        0         \n",
      " 2D)                                                             \n",
      "                                                                 \n",
      " flatten (Flatten)           (None, 6272)              0         \n",
      "                                                                 \n",
      " dropout (Dropout)           (None, 6272)              0         \n",
      "                                                                 \n",
      " dense (Dense)               (None, 512)               3211776   \n",
      "                                                                 \n",
      " dense_1 (Dense)             (None, 1)                 513       \n",
      "                                                                 \n",
      "=================================================================\n",
      "Total params: 3,453,121\n",
      "Trainable params: 3,453,121\n",
      "Non-trainable params: 0\n",
      "_________________________________________________________________\n"
     ]
    }
   ],
   "source": [
    "model.summary()"
   ]
  },
  {
   "cell_type": "code",
   "execution_count": 14,
   "id": "1aab7f1b",
   "metadata": {},
   "outputs": [],
   "source": [
    "model.compile(loss='binary_crossentropy',optimizer='adam',metrics=['accuracy'])"
   ]
  },
  {
   "cell_type": "code",
   "execution_count": 15,
   "id": "4f9c2e48",
   "metadata": {
    "scrolled": true
   },
   "outputs": [
    {
     "name": "stdout",
     "output_type": "stream",
     "text": [
      "Found 20000 images belonging to 2 classes.\n",
      "Found 5000 images belonging to 2 classes.\n"
     ]
    }
   ],
   "source": [
    "from tensorflow.keras.preprocessing.image import ImageDataGenerator\n",
    "\n",
    "train_datagen=ImageDataGenerator(rescale=1./255)\n",
    "test_datagen=ImageDataGenerator(rescale=1./255)\n",
    "\n",
    "train_generator=train_datagen.flow_from_directory(\n",
    "    train_dir,\n",
    "    target_size=(150,150),\n",
    "    batch_size=20,\n",
    "    class_mode='binary'\n",
    ")\n",
    "\n",
    "validation_generator=test_datagen.flow_from_directory(\n",
    "    test_dir,\n",
    "    target_size=(150,150),\n",
    "    batch_size=20,\n",
    "    class_mode='binary'\n",
    ")"
   ]
  },
  {
   "cell_type": "code",
   "execution_count": 16,
   "id": "b0ca2c00",
   "metadata": {
    "scrolled": true
   },
   "outputs": [
    {
     "name": "stdout",
     "output_type": "stream",
     "text": [
      "Epoch 1/30\n",
      "1000/1000 [==============================] - 249s 248ms/step - loss: 0.6579 - accuracy: 0.5977 - val_loss: 0.6092 - val_accuracy: 0.6662\n",
      "Epoch 2/30\n",
      "1000/1000 [==============================] - 200s 200ms/step - loss: 0.5590 - accuracy: 0.7124 - val_loss: 0.4883 - val_accuracy: 0.7656\n",
      "Epoch 3/30\n",
      "1000/1000 [==============================] - 198s 198ms/step - loss: 0.4635 - accuracy: 0.7782 - val_loss: 0.4253 - val_accuracy: 0.8072\n",
      "Epoch 4/30\n",
      "1000/1000 [==============================] - 198s 198ms/step - loss: 0.4029 - accuracy: 0.8173 - val_loss: 0.3857 - val_accuracy: 0.8196\n",
      "Epoch 5/30\n",
      "1000/1000 [==============================] - 199s 199ms/step - loss: 0.3578 - accuracy: 0.8439 - val_loss: 0.3756 - val_accuracy: 0.8306\n",
      "Epoch 6/30\n",
      "1000/1000 [==============================] - 218s 218ms/step - loss: 0.3112 - accuracy: 0.8658 - val_loss: 0.3208 - val_accuracy: 0.8652\n",
      "Epoch 7/30\n",
      "1000/1000 [==============================] - 210s 210ms/step - loss: 0.2717 - accuracy: 0.8857 - val_loss: 0.2972 - val_accuracy: 0.8762\n",
      "Epoch 8/30\n",
      "1000/1000 [==============================] - 252s 252ms/step - loss: 0.2386 - accuracy: 0.8974 - val_loss: 0.3105 - val_accuracy: 0.8630\n",
      "Epoch 9/30\n",
      "1000/1000 [==============================] - 203s 203ms/step - loss: 0.2093 - accuracy: 0.9121 - val_loss: 0.2551 - val_accuracy: 0.8946\n",
      "Epoch 10/30\n",
      "1000/1000 [==============================] - 204s 204ms/step - loss: 0.1837 - accuracy: 0.9240 - val_loss: 0.2830 - val_accuracy: 0.8836\n",
      "Epoch 11/30\n",
      "1000/1000 [==============================] - 215s 215ms/step - loss: 0.1595 - accuracy: 0.9345 - val_loss: 0.2643 - val_accuracy: 0.8900\n",
      "Epoch 12/30\n",
      "1000/1000 [==============================] - 215s 215ms/step - loss: 0.1476 - accuracy: 0.9398 - val_loss: 0.2647 - val_accuracy: 0.8962\n",
      "Epoch 13/30\n",
      "1000/1000 [==============================] - 211s 211ms/step - loss: 0.1266 - accuracy: 0.9503 - val_loss: 0.2984 - val_accuracy: 0.8948\n",
      "Epoch 14/30\n",
      "1000/1000 [==============================] - 210s 210ms/step - loss: 0.1227 - accuracy: 0.9499 - val_loss: 0.3018 - val_accuracy: 0.8806\n",
      "Epoch 15/30\n",
      "1000/1000 [==============================] - 239s 239ms/step - loss: 0.1016 - accuracy: 0.9586 - val_loss: 0.3716 - val_accuracy: 0.8848\n",
      "Epoch 16/30\n",
      "1000/1000 [==============================] - 244s 244ms/step - loss: 0.0977 - accuracy: 0.9626 - val_loss: 0.3086 - val_accuracy: 0.8958\n",
      "Epoch 17/30\n",
      "1000/1000 [==============================] - 245s 245ms/step - loss: 0.0909 - accuracy: 0.9658 - val_loss: 0.3101 - val_accuracy: 0.8976\n",
      "Epoch 18/30\n",
      "1000/1000 [==============================] - 235s 235ms/step - loss: 0.0847 - accuracy: 0.9682 - val_loss: 0.2877 - val_accuracy: 0.8832\n",
      "Epoch 19/30\n",
      "1000/1000 [==============================] - 231s 230ms/step - loss: 0.0768 - accuracy: 0.9721 - val_loss: 0.3723 - val_accuracy: 0.8870\n",
      "Epoch 20/30\n",
      "1000/1000 [==============================] - 202s 202ms/step - loss: 0.0713 - accuracy: 0.9724 - val_loss: 0.3506 - val_accuracy: 0.8942\n",
      "Epoch 21/30\n",
      "1000/1000 [==============================] - 202s 202ms/step - loss: 0.0696 - accuracy: 0.9741 - val_loss: 0.3016 - val_accuracy: 0.9002\n",
      "Epoch 22/30\n",
      "1000/1000 [==============================] - 202s 202ms/step - loss: 0.0699 - accuracy: 0.9736 - val_loss: 0.3089 - val_accuracy: 0.9012\n",
      "Epoch 23/30\n",
      "1000/1000 [==============================] - 204s 204ms/step - loss: 0.0659 - accuracy: 0.9764 - val_loss: 0.2883 - val_accuracy: 0.8912\n",
      "Epoch 24/30\n",
      "1000/1000 [==============================] - 202s 202ms/step - loss: 0.0641 - accuracy: 0.9758 - val_loss: 0.3278 - val_accuracy: 0.9002\n",
      "Epoch 25/30\n",
      "1000/1000 [==============================] - 214s 214ms/step - loss: 0.0585 - accuracy: 0.9785 - val_loss: 0.3353 - val_accuracy: 0.9024\n",
      "Epoch 26/30\n",
      "1000/1000 [==============================] - 202s 202ms/step - loss: 0.0533 - accuracy: 0.9816 - val_loss: 0.3819 - val_accuracy: 0.8966\n",
      "Epoch 27/30\n",
      "1000/1000 [==============================] - 203s 203ms/step - loss: 0.0619 - accuracy: 0.9789 - val_loss: 0.3245 - val_accuracy: 0.9030\n",
      "Epoch 28/30\n",
      "1000/1000 [==============================] - 203s 203ms/step - loss: 0.0532 - accuracy: 0.9815 - val_loss: 0.3711 - val_accuracy: 0.8946\n",
      "Epoch 29/30\n",
      "1000/1000 [==============================] - 210s 210ms/step - loss: 0.0566 - accuracy: 0.9798 - val_loss: 0.3531 - val_accuracy: 0.8982\n",
      "Epoch 30/30\n",
      "1000/1000 [==============================] - 218s 218ms/step - loss: 0.0517 - accuracy: 0.9832 - val_loss: 0.3561 - val_accuracy: 0.8946\n"
     ]
    }
   ],
   "source": [
    "history=model.fit(\n",
    "    train_generator,\n",
    "    epochs=30,\n",
    "    validation_data=validation_generator\n",
    ")"
   ]
  },
  {
   "cell_type": "markdown",
   "id": "763a4dec",
   "metadata": {},
   "source": [
    "여러개의 커널을 두는 이유 : 그중 일부는 정확하게 잡아낸다.(일부는 논다)\n",
    "분업하여 특징들을 잡아낸다.\n"
   ]
  },
  {
   "cell_type": "code",
   "execution_count": null,
   "id": "bbf3c5dc",
   "metadata": {},
   "outputs": [],
   "source": [
    "import matplotlib.pyplot as plt\n",
    "\n",
    "acc = history.history['accuracy']\n",
    "val_acc = history.history['val_accuracy']\n",
    "loss = history.history['loss']\n",
    "val_loss = history.history['val_loss']\n",
    "\n",
    "epochs = range(len(acc))\n",
    "\n",
    "plt.plot(epochs, acc, 'ro', label='Training acc')\n",
    "plt.plot(epochs, val_acc, 'b', label='Validation acc')\n",
    "plt.title('Training and validation accuracy')\n",
    "plt.legend()\n",
    "\n",
    "plt.figure()\n",
    "\n",
    "plt.plot(epochs, loss, 'ro', label='Training loss')\n",
    "plt.plot(epochs, val_loss, 'b', label='Validation loss')\n",
    "plt.title('Training and validation loss')\n",
    "plt.legend()\n",
    "\n",
    "plt.show()"
   ]
  },
  {
   "cell_type": "code",
   "execution_count": null,
   "id": "7d52510e",
   "metadata": {},
   "outputs": [],
   "source": []
  }
 ],
 "metadata": {
  "kernelspec": {
   "display_name": "Python 3 (ipykernel)",
   "language": "python",
   "name": "python3"
  },
  "language_info": {
   "codemirror_mode": {
    "name": "ipython",
    "version": 3
   },
   "file_extension": ".py",
   "mimetype": "text/x-python",
   "name": "python",
   "nbconvert_exporter": "python",
   "pygments_lexer": "ipython3",
   "version": "3.8.15"
  }
 },
 "nbformat": 4,
 "nbformat_minor": 5
}
