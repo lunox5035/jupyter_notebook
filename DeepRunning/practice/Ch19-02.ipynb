{
 "cells": [
  {
   "cell_type": "code",
   "execution_count": 1,
   "id": "457e4309",
   "metadata": {},
   "outputs": [],
   "source": [
    "from tensorflow.keras.datasets import mnist\n",
    "from tensorflow.keras import models, layers\n",
    "import matplotlib.pyplot as plt\n",
    "import numpy as np\n",
    "import os\n",
    "os.environ[\"KMP_DUPLICATE_LIB_OK\"]='1'"
   ]
  },
  {
   "cell_type": "code",
   "execution_count": 3,
   "id": "9f953e78",
   "metadata": {},
   "outputs": [],
   "source": [
    "(X_train,_),(X_test, _)=mnist.load_data()\n",
    "X_train= X_train.reshape(X_train.shape[0], 28, 28, 1).astype(float)/255\n",
    "X_test= X_test.reshape(X_test.shape[0], 28, 28, 1).astype(float)/255"
   ]
  },
  {
   "cell_type": "code",
   "execution_count": 7,
   "id": "6256bde7",
   "metadata": {
    "collapsed": true
   },
   "outputs": [
    {
     "name": "stdout",
     "output_type": "stream",
     "text": [
      "Model: \"sequential_3\"\n",
      "_________________________________________________________________\n",
      " Layer (type)                Output Shape              Param #   \n",
      "=================================================================\n",
      " conv2d (Conv2D)             (None, 28, 28, 16)        160       \n",
      "                                                                 \n",
      " max_pooling2d (MaxPooling2D  (None, 14, 14, 16)       0         \n",
      " )                                                               \n",
      "                                                                 \n",
      " conv2d_1 (Conv2D)           (None, 14, 14, 8)         1160      \n",
      "                                                                 \n",
      " max_pooling2d_1 (MaxPooling  (None, 7, 7, 8)          0         \n",
      " 2D)                                                             \n",
      "                                                                 \n",
      " conv2d_2 (Conv2D)           (None, 4, 4, 8)           584       \n",
      "                                                                 \n",
      " conv2d_3 (Conv2D)           (None, 4, 4, 8)           584       \n",
      "                                                                 \n",
      " up_sampling2d (UpSampling2D  (None, 8, 8, 8)          0         \n",
      " )                                                               \n",
      "                                                                 \n",
      " conv2d_4 (Conv2D)           (None, 8, 8, 8)           584       \n",
      "                                                                 \n",
      " up_sampling2d_1 (UpSampling  (None, 16, 16, 8)        0         \n",
      " 2D)                                                             \n",
      "                                                                 \n",
      " conv2d_5 (Conv2D)           (None, 14, 14, 16)        1168      \n",
      "                                                                 \n",
      " up_sampling2d_2 (UpSampling  (None, 28, 28, 16)       0         \n",
      " 2D)                                                             \n",
      "                                                                 \n",
      " conv2d_6 (Conv2D)           (None, 28, 28, 1)         145       \n",
      "                                                                 \n",
      "=================================================================\n",
      "Total params: 4,385\n",
      "Trainable params: 4,385\n",
      "Non-trainable params: 0\n",
      "_________________________________________________________________\n"
     ]
    }
   ],
   "source": [
    "autoencoder = models.Sequential()\n",
    "autoencoder.add(layers.Conv2D(16,kernel_size=3,padding='same',\n",
    "                             input_shape=(28,28,1),activation='relu'))\n",
    "autoencoder.add(layers.MaxPool2D(pool_size=2,padding='same'))\n",
    "autoencoder.add(layers.Conv2D(8,kernel_size=3,padding='same',activation='relu'))\n",
    "autoencoder.add(layers.MaxPool2D(pool_size=2,padding='same'))\n",
    "autoencoder.add(layers.Conv2D(8,kernel_size=3,padding='same',activation='relu',\n",
    "                             strides=2))\n",
    "\n",
    "autoencoder.add(layers.Conv2D(8,kernel_size=3,padding='same',activation='relu'))\n",
    "autoencoder.add(layers.UpSampling2D())\n",
    "autoencoder.add(layers.Conv2D(8,kernel_size=3,padding='same',activation='relu'))\n",
    "autoencoder.add(layers.UpSampling2D())\n",
    "autoencoder.add(layers.Conv2D(16,kernel_size=3,activation='relu'))\n",
    "autoencoder.add(layers.UpSampling2D())\n",
    "autoencoder.add(layers.Conv2D(1,kernel_size=3,padding='same',activation='sigmoid'))\n",
    "\n",
    "autoencoder.summary()"
   ]
  },
  {
   "cell_type": "code",
   "execution_count": 9,
   "id": "921a2d05",
   "metadata": {},
   "outputs": [
    {
     "name": "stdout",
     "output_type": "stream",
     "text": [
      "Epoch 1/50\n",
      "469/469 [==============================] - 90s 191ms/step - loss: 0.2074 - val_loss: 0.1434\n",
      "Epoch 2/50\n",
      "469/469 [==============================] - 84s 178ms/step - loss: 0.1301 - val_loss: 0.1206\n",
      "Epoch 3/50\n",
      "469/469 [==============================] - 83s 177ms/step - loss: 0.1174 - val_loss: 0.1123\n",
      "Epoch 4/50\n",
      "469/469 [==============================] - 83s 176ms/step - loss: 0.1109 - val_loss: 0.1070\n",
      "Epoch 5/50\n",
      "469/469 [==============================] - 84s 179ms/step - loss: 0.1064 - val_loss: 0.1036\n",
      "Epoch 6/50\n",
      "469/469 [==============================] - 84s 179ms/step - loss: 0.1029 - val_loss: 0.1005\n",
      "Epoch 7/50\n",
      "469/469 [==============================] - 84s 178ms/step - loss: 0.1001 - val_loss: 0.0976\n",
      "Epoch 8/50\n",
      "469/469 [==============================] - 83s 178ms/step - loss: 0.0978 - val_loss: 0.0956\n",
      "Epoch 9/50\n",
      "469/469 [==============================] - 85s 181ms/step - loss: 0.0960 - val_loss: 0.0939\n",
      "Epoch 10/50\n",
      "469/469 [==============================] - 83s 178ms/step - loss: 0.0946 - val_loss: 0.0929\n",
      "Epoch 11/50\n",
      "469/469 [==============================] - 84s 178ms/step - loss: 0.0935 - val_loss: 0.0921\n",
      "Epoch 12/50\n",
      "469/469 [==============================] - 83s 178ms/step - loss: 0.0925 - val_loss: 0.0910\n",
      "Epoch 13/50\n",
      "469/469 [==============================] - 82s 175ms/step - loss: 0.0916 - val_loss: 0.0901\n",
      "Epoch 14/50\n",
      "469/469 [==============================] - 75s 161ms/step - loss: 0.0910 - val_loss: 0.0894\n",
      "Epoch 15/50\n",
      "469/469 [==============================] - 75s 159ms/step - loss: 0.0904 - val_loss: 0.0892\n",
      "Epoch 16/50\n",
      "469/469 [==============================] - 74s 159ms/step - loss: 0.0899 - val_loss: 0.0884\n",
      "Epoch 17/50\n",
      "469/469 [==============================] - 72s 154ms/step - loss: 0.0894 - val_loss: 0.0880\n",
      "Epoch 18/50\n",
      "469/469 [==============================] - 77s 165ms/step - loss: 0.0890 - val_loss: 0.0877\n",
      "Epoch 19/50\n",
      "469/469 [==============================] - 77s 164ms/step - loss: 0.0887 - val_loss: 0.0874\n",
      "Epoch 20/50\n",
      "469/469 [==============================] - 73s 156ms/step - loss: 0.0884 - val_loss: 0.0872\n",
      "Epoch 21/50\n",
      "469/469 [==============================] - 75s 160ms/step - loss: 0.0881 - val_loss: 0.0868\n",
      "Epoch 22/50\n",
      "469/469 [==============================] - 76s 162ms/step - loss: 0.0878 - val_loss: 0.0869\n",
      "Epoch 23/50\n",
      "469/469 [==============================] - 76s 162ms/step - loss: 0.0875 - val_loss: 0.0862\n",
      "Epoch 24/50\n",
      "469/469 [==============================] - 76s 161ms/step - loss: 0.0871 - val_loss: 0.0861\n",
      "Epoch 25/50\n",
      "469/469 [==============================] - 76s 163ms/step - loss: 0.0869 - val_loss: 0.0861\n",
      "Epoch 26/50\n",
      "469/469 [==============================] - 77s 163ms/step - loss: 0.0866 - val_loss: 0.0853\n",
      "Epoch 27/50\n",
      "469/469 [==============================] - 76s 163ms/step - loss: 0.0864 - val_loss: 0.0852\n",
      "Epoch 28/50\n",
      "469/469 [==============================] - 75s 160ms/step - loss: 0.0862 - val_loss: 0.0849\n",
      "Epoch 29/50\n",
      "469/469 [==============================] - 75s 161ms/step - loss: 0.0860 - val_loss: 0.0847\n",
      "Epoch 30/50\n",
      "469/469 [==============================] - 75s 161ms/step - loss: 0.0857 - val_loss: 0.0846\n",
      "Epoch 31/50\n",
      "469/469 [==============================] - 77s 164ms/step - loss: 0.0856 - val_loss: 0.0842\n",
      "Epoch 32/50\n",
      "469/469 [==============================] - 77s 164ms/step - loss: 0.0854 - val_loss: 0.0843\n",
      "Epoch 33/50\n",
      "469/469 [==============================] - 77s 164ms/step - loss: 0.0852 - val_loss: 0.0839\n",
      "Epoch 34/50\n",
      "469/469 [==============================] - 77s 165ms/step - loss: 0.0850 - val_loss: 0.0838\n",
      "Epoch 35/50\n",
      "469/469 [==============================] - 77s 163ms/step - loss: 0.0849 - val_loss: 0.0837\n",
      "Epoch 36/50\n",
      "469/469 [==============================] - 77s 164ms/step - loss: 0.0847 - val_loss: 0.0836\n",
      "Epoch 37/50\n",
      "469/469 [==============================] - 76s 162ms/step - loss: 0.0846 - val_loss: 0.0834\n",
      "Epoch 38/50\n",
      "469/469 [==============================] - 77s 165ms/step - loss: 0.0845 - val_loss: 0.0833\n",
      "Epoch 39/50\n",
      "469/469 [==============================] - 77s 164ms/step - loss: 0.0843 - val_loss: 0.0832\n",
      "Epoch 40/50\n",
      "469/469 [==============================] - 76s 162ms/step - loss: 0.0842 - val_loss: 0.0830\n",
      "Epoch 41/50\n",
      "469/469 [==============================] - 76s 162ms/step - loss: 0.0841 - val_loss: 0.0828\n",
      "Epoch 42/50\n",
      "469/469 [==============================] - 71s 151ms/step - loss: 0.0839 - val_loss: 0.0829\n",
      "Epoch 43/50\n",
      "469/469 [==============================] - 75s 160ms/step - loss: 0.0838 - val_loss: 0.0829\n",
      "Epoch 44/50\n",
      "469/469 [==============================] - 78s 167ms/step - loss: 0.0837 - val_loss: 0.0826\n",
      "Epoch 45/50\n",
      "469/469 [==============================] - 75s 161ms/step - loss: 0.0836 - val_loss: 0.0824\n",
      "Epoch 46/50\n",
      "469/469 [==============================] - 77s 163ms/step - loss: 0.0835 - val_loss: 0.0826\n",
      "Epoch 47/50\n",
      "469/469 [==============================] - 75s 159ms/step - loss: 0.0833 - val_loss: 0.0823\n",
      "Epoch 48/50\n",
      "469/469 [==============================] - 77s 165ms/step - loss: 0.0832 - val_loss: 0.0821\n",
      "Epoch 49/50\n",
      "469/469 [==============================] - 77s 164ms/step - loss: 0.0831 - val_loss: 0.0825\n",
      "Epoch 50/50\n",
      "469/469 [==============================] - 76s 161ms/step - loss: 0.0830 - val_loss: 0.0819\n"
     ]
    },
    {
     "data": {
      "text/plain": [
       "<keras.callbacks.History at 0x26bb41fe6d0>"
      ]
     },
     "execution_count": 9,
     "metadata": {},
     "output_type": "execute_result"
    }
   ],
   "source": [
    "autoencoder.compile(loss='binary_crossentropy', optimizer='adam')\n",
    "autoencoder.fit(X_train,X_train, epochs=50, batch_size=128,\n",
    "               validation_data=(X_test, X_test))"
   ]
  },
  {
   "cell_type": "code",
   "execution_count": 10,
   "id": "245acd49",
   "metadata": {},
   "outputs": [
    {
     "name": "stdout",
     "output_type": "stream",
     "text": [
      "313/313 [==============================] - 1s 3ms/step\n"
     ]
    },
    {
     "data": {
      "image/png": "[encoded data removed]",
      "text/plain": [
       "<Figure size 700x200 with 10 Axes>"
      ]
     },
     "metadata": {},
     "output_type": "display_data"
    }
   ],
   "source": [
    "random_test = np.random.randint(X_test.shape[0], size=5)  # 테스트할 이미지를 랜덤하게 불러옵니다.\n",
    "ae_imgs = autoencoder.predict(X_test)                     # 앞서 만든 오토인코더 모델에 집어 넣습니다.\n",
    "\n",
    "plt.figure(figsize=(7, 2))                         # 출력될 이미지의 크기를 정합니다.\n",
    "\n",
    "for i, image_idx in enumerate(random_test):       # 랜덤하게 뽑은 이미지를 차례로 나열합니다.\n",
    "   ax = plt.subplot(2, 7, i + 1) \n",
    "   plt.imshow(X_test[image_idx].reshape(28, 28))   # 테스트할 이미지를 먼저 그대로 보여줍니다.\n",
    "   ax.axis('off')\n",
    "   ax = plt.subplot(2, 7, 7 + i +1)\n",
    "   plt.imshow(ae_imgs[image_idx].reshape(28, 28)) # 오토인코딩 결과를 다음열에 출력합니다.\n",
    "   ax.axis('off')\n",
    "plt.show()"
   ]
  },
  {
   "cell_type": "code",
   "execution_count": null,
   "id": "92ea39ee",
   "metadata": {},
   "outputs": [],
   "source": []
  }
 ],
 "metadata": {
  "kernelspec": {
   "display_name": "Python 3 (ipykernel)",
   "language": "python",
   "name": "python3"
  },
  "language_info": {
   "codemirror_mode": {
    "name": "ipython",
    "version": 3
   },
   "file_extension": ".py",
   "mimetype": "text/x-python",
   "name": "python",
   "nbconvert_exporter": "python",
   "pygments_lexer": "ipython3",
   "version": "3.8.15"
  }
 },
 "nbformat": 4,
 "nbformat_minor": 5
}
