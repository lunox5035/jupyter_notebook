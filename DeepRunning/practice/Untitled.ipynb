{
 "cells": [
  {
   "cell_type": "markdown",
   "id": "baf99bc4",
   "metadata": {},
   "source": [
    "cats_dogs 러닝타임이 길어져서 만든 임시파일"
   ]
  },
  {
   "cell_type": "code",
   "execution_count": null,
   "id": "1e3ad5de",
   "metadata": {},
   "outputs": [],
   "source": []
  }
 ],
 "metadata": {
  "kernelspec": {
   "display_name": "Python 3 (ipykernel)",
   "language": "python",
   "name": "python3"
  },
  "language_info": {
   "codemirror_mode": {
    "name": "ipython",
    "version": 3
   },
   "file_extension": ".py",
   "mimetype": "text/x-python",
   "name": "python",
   "nbconvert_exporter": "python",
   "pygments_lexer": "ipython3",
   "version": "3.8.15"
  }
 },
 "nbformat": 4,
 "nbformat_minor": 5
}
