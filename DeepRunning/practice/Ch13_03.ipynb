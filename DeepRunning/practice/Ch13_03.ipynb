{
 "cells": [
  {
   "cell_type": "code",
   "execution_count": 1,
   "id": "6ec28527",
   "metadata": {},
   "outputs": [],
   "source": [
    "import pandas as pd\n",
    "from tensorflow.keras import models, layers\n",
    "from sklearn.model_selection import KFold"
   ]
  },
  {
   "cell_type": "code",
   "execution_count": 2,
   "id": "2ff63ecb",
   "metadata": {},
   "outputs": [],
   "source": [
    "df=pd.read_csv('data/sonar3.csv',header=None)\n",
    "X=df.iloc[:,:60]\n",
    "y=df.iloc[:,60]"
   ]
  },
  {
   "cell_type": "code",
   "execution_count": 3,
   "id": "975d58de",
   "metadata": {},
   "outputs": [],
   "source": [
    "k=5\n",
    "kfold=KFold(n_splits=k,shuffle=True)\n",
    "\n",
    "acc_score=[]\n",
    "\n",
    "def model_fn():\n",
    "    model = models.Sequential()\n",
    "    model.add(layers.Dense(24,input_dim=60,activation='relu'))\n",
    "    model.add(layers.Dense(10,activation='relu'))\n",
    "    model.add(layers.Dense(1,activation='sigmoid'))\n",
    "    return model"
   ]
  },
  {
   "cell_type": "code",
   "execution_count": 4,
   "id": "9081cccb",
   "metadata": {},
   "outputs": [
    {
     "name": "stdout",
     "output_type": "stream",
     "text": [
      "2/2 [==============================] - 0s 4ms/step - loss: 0.4074 - accuracy: 0.9048\n",
      "2/2 [==============================] - 0s 2ms/step - loss: 0.3696 - accuracy: 0.8571\n",
      "2/2 [==============================] - 0s 3ms/step - loss: 0.4896 - accuracy: 0.8810\n",
      "2/2 [==============================] - 0s 3ms/step - loss: 1.2029 - accuracy: 0.6341\n",
      "WARNING:tensorflow:5 out of the last 9 calls to <function Model.make_test_function.<locals>.test_function at 0x000002744965E8B0> triggered tf.function retracing. Tracing is expensive and the excessive number of tracings could be due to (1) creating @tf.function repeatedly in a loop, (2) passing tensors with different shapes, (3) passing Python objects instead of tensors. For (1), please define your @tf.function outside of the loop. For (2), @tf.function has reduce_retracing=True option that can avoid unnecessary retracing. For (3), please refer to https://www.tensorflow.org/guide/function#controlling_retracing and https://www.tensorflow.org/api_docs/python/tf/function for  more details.\n",
      "2/2 [==============================] - 0s 3ms/step - loss: 0.4443 - accuracy: 0.8049\n"
     ]
    }
   ],
   "source": [
    "for train_index, test_index in kfold.split(X):\n",
    "    X_train,X_test=X.iloc[train_index,:],X.iloc[test_index,:]\n",
    "    y_train,y_test=y.iloc[train_index],y.iloc[test_index]\n",
    "    \n",
    "    model= model_fn()\n",
    "    model.compile(loss='binary_crossentropy',optimizer='adam',metrics=['accuracy'])\n",
    "    history = model.fit(X_train, y_train, epochs=200, batch_size=10, verbose=0)\n",
    "    acc_score.append(model.evaluate(X_test,y_test)[1])    "
   ]
  },
  {
   "cell_type": "code",
   "execution_count": 5,
   "id": "e6e33106",
   "metadata": {},
   "outputs": [
    {
     "name": "stdout",
     "output_type": "stream",
     "text": [
      "Accuracy: [0.9047619104385376, 0.8571428656578064, 0.8809523582458496, 0.6341463327407837, 0.8048780560493469]\n",
      "Accuracy Average: 0.8163763046264648\n"
     ]
    }
   ],
   "source": [
    "avg_score= sum(acc_score)/k\n",
    "print('Accuracy:',acc_score)\n",
    "print('Accuracy Average:',avg_score)"
   ]
  },
  {
   "cell_type": "code",
   "execution_count": null,
   "id": "e3f2022d",
   "metadata": {},
   "outputs": [],
   "source": []
  }
 ],
 "metadata": {
  "kernelspec": {
   "display_name": "Python 3 (ipykernel)",
   "language": "python",
   "name": "python3"
  },
  "language_info": {
   "codemirror_mode": {
    "name": "ipython",
    "version": 3
   },
   "file_extension": ".py",
   "mimetype": "text/x-python",
   "name": "python",
   "nbconvert_exporter": "python",
   "pygments_lexer": "ipython3",
   "version": "3.8.15"
  }
 },
 "nbformat": 4,
 "nbformat_minor": 5
}
