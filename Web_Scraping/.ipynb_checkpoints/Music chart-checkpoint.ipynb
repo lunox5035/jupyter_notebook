{
 "cells": [
  {
   "cell_type": "markdown",
   "id": "f8c05ce7",
   "metadata": {},
   "source": [
    "네이버 VIBE에서 오늘 Top 100 가져오기"
   ]
  },
  {
   "cell_type": "code",
   "execution_count": 1,
   "id": "d175bdca",
   "metadata": {},
   "outputs": [],
   "source": [
    "from bs4 import BeautifulSoup\n",
    "import requests"
   ]
  },
  {
   "cell_type": "code",
   "execution_count": 3,
   "id": "8f7dbb6a",
   "metadata": {},
   "outputs": [],
   "source": [
    "url='https://vibe.naver.com/today'\n",
    "html_music =requests.get(url).text\n",
    "soup_music = BeautifulSoup(html_music, 'lxml')"
   ]
  },
  {
   "cell_type": "code",
   "execution_count": 4,
   "id": "e204fb35",
   "metadata": {},
   "outputs": [
    {
     "name": "stdout",
     "output_type": "stream",
     "text": [
      "<!DOCTYPE html>\n",
      "<html lang=\"ko\"><head><meta charset=\"utf-8\"/><meta content=\"IE=edge\" http-equiv=\"X-UA-Compatible\"/><meta content=\"width=device-width,initial-scale=1,user-scalable=no\" name=\"viewport\"/><meta content=\"telephone=no\" name=\"format-detection\"/><meta content=\"좋아하는 음악은 물론, 좋아할 음악까지 들려주는 취향 저격 뮤직 서비스\" name=\"description\"/><meta content=\"app-id=1338631589\" name=\"apple-itunes-app\"/><meta content=\"website\" property=\"og:type\"/><meta content=\"https://music-phinf.pstatic.net/20201019_118/16031004163365Jexk_JPEG/about.jpg\" property=\"og:image\"/><meta content=\"NAVER VIBE(바이브)\" property=\"og:title\"/><meta content=\"#나만을 위한 음악이 듣고 싶을 땐 #내돈내듣 VIBE.\" property=\"og:description\"/><meta content=\"https://vibe.naver.com\" property=\"og:url\"/><meta content=\"summary_large_image\" name=\"twitter:card\"/><meta content=\"https://music-phinf.pstatic.net/20201019_118/16031004163365Jexk_JPEG/about.jpg\" name=\"twitter:image\"/><meta content=\"NAVER VIBE(바이브)\" name=\"twitter:title\"/><meta content=\"NAVER VIBE(바이브)\" name=\"twitter:site\"/><meta content=\"VIBE\" name=\"twitter:creator\"/><meta content=\"#나만을 위한 음악이 듣고 싶을 땐 #내돈내듣 VIBE.\" name=\"twitter:description\"/><link href=\"/favicon.ico\" rel=\"shortcut icon\" type=\"image/x-icon\"/><link href=\"/favicon.ico\" rel=\"icon\" type=\"image/x-icon\"/><link href=\"/images/icon/icon_120x120.png\" rel=\"apple-touch-icon\"/><link href=\"/images/icon/icon_120x120.png\" rel=\"apple-touch-icon\" sizes=\"120x120\"/><link href=\"/images/icon/icon_152x152.png\" rel=\"apple-touch-icon\" sizes=\"152x152\"/><link href=\"/images/icon/icon_167x167.png\" rel=\"apple-touch-icon\" sizes=\"167x167\"/><link href=\"/images/icon/icon_180x180.png\" rel=\"apple-touch-icon\" sizes=\"180x180\"/><title>VIBE (바이브)</title><link href=\"/20221229145814_resources/css/common.5ac0c71b.css\" rel=\"prefetch\"/><link href=\"/20221229145814_resources/js/common.e87ef96f.js\" rel=\"prefetch\"/><link href=\"/20221229145814_resources/js/vendor-animation.c6ebb990.js\" rel=\"prefetch\"/><link href=\"/20221229145814_resources/js/vendor-coreplayer.7f505d98.js\" rel=\"prefetch\"/><link href=\"/20221229145814_resources/js/vendor-lottie.59aa37fe.js\" rel=\"prefetch\"/><link as=\"style\" href=\"/20221229145814_resources/css/app.d9443229.css\" rel=\"preload\"/><link as=\"style\" href=\"/20221229145814_resources/css/chunk-vendors.598bb52f.css\" rel=\"preload\"/><link as=\"script\" href=\"/20221229145814_resources/js/app.20299473.js\" rel=\"preload\"/><link as=\"script\" href=\"/20221229145814_resources/js/chunk-vendors.e488da94.js\" rel=\"preload\"/><link href=\"/20221229145814_resources/css/chunk-vendors.598bb52f.css\" rel=\"stylesheet\"/><link href=\"/20221229145814_resources/css/app.d9443229.css\" rel=\"stylesheet\"/></head><body><noscript><strong>자바스크립트가 비활성화 되어있어 화면을 표시할 수 없습니다. 브라우저 설정에서 자바스크립트를 활성화 후 다시 시도해 주세요.</strong></noscript><div class=\"app\" id=\"app\"></div><script src=\"/20221229145814_resources/js/chunk-vendors.e488da94.js\"></script><script src=\"/20221229145814_resources/js/app.20299473.js\"></script></body></html>\n"
     ]
    }
   ],
   "source": [
    "print(soup_music )"
   ]
  },
  {
   "cell_type": "code",
   "execution_count": 7,
   "id": "ff138233",
   "metadata": {},
   "outputs": [],
   "source": [
    "from selenium import webdriver\n",
    "from selenium.webdriver.chrome.service import Service\n",
    "from selenium.webdriver.common.by import By"
   ]
  },
  {
   "cell_type": "code",
   "execution_count": 10,
   "id": "56471090",
   "metadata": {},
   "outputs": [],
   "source": [
    "driver = webdriver.Chrome(service= Service('driver/chromedriver'))\n",
    "driver.get('https://vibe.naver.com/chart/total')"
   ]
  },
  {
   "cell_type": "code",
   "execution_count": 11,
   "id": "2bd0f084",
   "metadata": {},
   "outputs": [],
   "source": [
    "xpath = \"\"\"//*[@id=\"app\"]/div[2]/div/div/a[2]\"\"\"\n",
    "\n",
    "driver.find_element(By.XPATH, xpath).click()"
   ]
  },
  {
   "cell_type": "code",
   "execution_count": 12,
   "id": "bccdcc26",
   "metadata": {},
   "outputs": [],
   "source": [
    "soup = BeautifulSoup(driver.page_source, 'lxml')"
   ]
  },
  {
   "cell_type": "code",
   "execution_count": 13,
   "id": "b37268a7",
   "metadata": {},
   "outputs": [],
   "source": [
    "driver.close()"
   ]
  },
  {
   "cell_type": "code",
   "execution_count": null,
   "id": "15dbb90e",
   "metadata": {},
   "outputs": [],
   "source": []
  },
  {
   "cell_type": "code",
   "execution_count": 14,
   "id": "0e17acb6",
   "metadata": {},
   "outputs": [],
   "source": [
    "songs_list = soup.select('div.title_badge_wrap span.inner_cell a')"
   ]
  },
  {
   "cell_type": "code",
   "execution_count": 16,
   "id": "b3cb77cf",
   "metadata": {},
   "outputs": [
    {
     "name": "stdout",
     "output_type": "stream",
     "text": [
      "100\n"
     ]
    }
   ],
   "source": [
    "print(len(songs_list))"
   ]
  },
  {
   "cell_type": "code",
   "execution_count": 18,
   "id": "1b30411b",
   "metadata": {},
   "outputs": [
    {
     "name": "stdout",
     "output_type": "stream",
     "text": [
      "<a class=\"link_text\" href=\"/track/59261740\" title=\"Ditto\">Ditto</a>\n"
     ]
    }
   ],
   "source": [
    "print(songs_list[0])"
   ]
  },
  {
   "cell_type": "code",
   "execution_count": 19,
   "id": "e9bf19d8",
   "metadata": {},
   "outputs": [
    {
     "name": "stdout",
     "output_type": "stream",
     "text": [
      "Ditto\n"
     ]
    }
   ],
   "source": [
    "print(songs_list[0].get_text())"
   ]
  },
  {
   "cell_type": "code",
   "execution_count": 20,
   "id": "bdec0cc3",
   "metadata": {},
   "outputs": [],
   "source": [
    "artists_list= soup.select('div.artist_sub')"
   ]
  },
  {
   "cell_type": "code",
   "execution_count": 21,
   "id": "c5cd4dd9",
   "metadata": {},
   "outputs": [
    {
     "name": "stdout",
     "output_type": "stream",
     "text": [
      "100\n"
     ]
    }
   ],
   "source": [
    "print(len(artists_list))"
   ]
  },
  {
   "cell_type": "code",
   "execution_count": 22,
   "id": "49cb83f1",
   "metadata": {
    "collapsed": true
   },
   "outputs": [
    {
     "name": "stdout",
     "output_type": "stream",
     "text": [
      "<div class=\"artist_sub\" title=\"NewJeans\"><span><span><a class=\"link_artist\" href=\"/artist/5615371\"><span class=\"text\">NewJeans</span></a><!-- --></span></span><span class=\"blind\">아티스트명</span></div>\n"
     ]
    }
   ],
   "source": [
    "print(artists_list[0])"
   ]
  },
  {
   "cell_type": "code",
   "execution_count": 23,
   "id": "7cdad579",
   "metadata": {},
   "outputs": [
    {
     "name": "stdout",
     "output_type": "stream",
     "text": [
      "NewJeans\n"
     ]
    }
   ],
   "source": [
    "print(artists_list[0].get('title'))"
   ]
  },
  {
   "cell_type": "code",
   "execution_count": 24,
   "id": "5cf0a841",
   "metadata": {
    "collapsed": true
   },
   "outputs": [
    {
     "name": "stdout",
     "output_type": "stream",
     "text": [
      "1. Ditto / NewJeans\n",
      "2. 사건의 지평선 / 윤하\n",
      "3. Hype boy / NewJeans\n",
      "4. After LIKE / IVE(아이브)\n",
      "5. ANTIFRAGILE / LE SSERAFIM (르세라핌)\n",
      "6. Attention / NewJeans\n",
      "7. LOVE DIVE / IVE(아이브)\n",
      "8. Nxde / (여자) 아이들\n",
      "9. NOT SORRY (Feat. pH-1) (Prod. by Slom) / 이영지\n",
      "10. 새삥 (Prod. ZICO) (Feat. 호미들) / 지코 (ZICO)\n",
      "11. Candy / NCT DREAM\n",
      "12. Monologue / 테이\n",
      "13. Pink Venom / BLACKPINK\n",
      "14. WHEN I MOVE / 카라(Kara)\n",
      "15. 너의 모든 순간 / 성시경\n",
      "16. TOMBOY / (여자) 아이들\n",
      "17. Dreamers [Music from the FIFA World Cup Qatar 2022 Official Soundtrack] (Feat. FIFA Sound) / 정국, 방탄소년단\n",
      "18. Shut Down / BLACKPINK\n",
      "19. 그때 그 순간 그대로 (그그그) / WSG워너비(가야G)\n",
      "20. 나의 X에게 / 경서\n",
      "21. FEARLESS / LE SSERAFIM (르세라핌)\n",
      "22. That's Hilarious / Charlie Puth\n",
      "23. ELEVEN / IVE(아이브)\n",
      "24. 자격지심 (Feat. ZICO) / BE'O(비오)\n",
      "25. 마이웨이 (MY WAY) (Prod. R.Tee) / 저스디스(JUSTHIS), R.Tee, 던말릭(DON MALIK), 허성현 (Huh), KHAN, 맥대디(Mckdaddy), 로스(Los)\n",
      "26. 드라마 / 아이유(IU)\n",
      "27. Cookie / NewJeans\n",
      "28. Rush Hour (Feat. j-hope of BTS) / Crush\n",
      "29. 어떻게 이별까지 사랑하겠어, 널 사랑하는 거지 / AKMU(악뮤)\n",
      "30. 그라데이션 / 10CM\n",
      "31. 눈이 오잖아(Feat.헤이즈) / 이무진\n",
      "32. 사랑인가 봐 / 멜로망스(Melomance)\n",
      "33. 정이라고 하자 (Feat. 10CM) / BIG Naughty (서동현)\n",
      "34. Santa Tell Me / Ariana Grande\n",
      "35. 우리들의 블루스 / 임영웅\n",
      "36. 취중고백 / 김민석(멜로망스)\n",
      "37. 아픈 나를 / 성시경\n",
      "38. Unholy / Sam Smith, Kim Petras\n",
      "39. 도깨비불 (Illusion) / aespa\n",
      "40. All I Want for Christmas Is You / Mariah Carey\n",
      "41. 보고싶었어 / WSG워너비(4FIRE)\n",
      "42. 우린 그렇게 사랑해서 / 강민경, 잔나비 최정훈\n",
      "43. 밤하늘의 별을 (2020) / 경서\n",
      "44. That That (prod. ＆ feat. SUGA of BTS) / 싸이 (PSY)\n",
      "45. 봄여름가을겨울 (Still Life) / BIGBANG (빅뱅)\n",
      "46. 밤편지 / 아이유(IU)\n",
      "47. FOREVER 1 / 소녀시대 (GIRLS' GENERATION)\n",
      "48. 팡파레 / 다비치\n",
      "49. Snowman / Sia\n",
      "50. 첫눈처럼 너에게 가겠다 / 에일리(Ailee)\n",
      "51. 위하여 (We Higher) (Prod. GroovyRoom) / 그루비룸(GroovyRoom), 릴보이(lIlBOI), Blase(블라세), 노윤하, Polodared, Chillin Homie, Fleeky Bang\n",
      "52. Feel My Rhythm / Red Velvet (레드벨벳)\n",
      "53. SNEAKERS / ITZY(있지)\n",
      "54. 주저하는 연인들을 위해 / 잔나비\n",
      "55. Made You Look / Meghan Trainor\n",
      "56. I Don't Think That I Like Her / Charlie Puth\n",
      "57. 신호등 / 이무진\n",
      "58. 딱 10CM만 / 10CM, BIG Naughty (서동현)\n",
      "59. Cheshire / ITZY(있지)\n",
      "60. 사랑은 늘 도망가 / 임영웅\n",
      "61. 미운오리새끼 (Feat. 선우정아, BOBBY) (Prod. R.Tee) / 허성현 (Huh)\n",
      "62. 눈 (EYE) (Feat. BIG Naughty, 저스디스 (JUSTHIS)) (Prod. R.Tee) / 던말릭(DON MALIK)\n",
      "63. STAY / The Kid LAROI, Justin Bieber\n",
      "64. 다정히 내 이름을 부르면 / 경서예지, 전건호\n",
      "65. POP! / 나연 (TWICE)\n",
      "66. LOVE me / BE'O(비오)\n",
      "67. 모든 날, 모든 순간 (Every day, Every Moment) / 폴킴\n",
      "68. LAW (Prod. Czaer) / 윤미래, 비비(BIBI)\n",
      "69. 다시 만날 수 있을까 / 임영웅\n",
      "70. 회전목마 (Feat. Zion.T, 원슈타인) (Prod. Slom) / sokodomo\n",
      "71. 스티커 사진 / 21학번\n",
      "72. Talk that Talk / TWICE(트와이스)\n",
      "73. strawberry moon / 아이유(IU)\n",
      "74. SMILEY (Feat. BIBI) / YENA(최예나)\n",
      "75. 어제처럼 / 폴킴\n",
      "76. 미리 메리 크리스마스 (Feat. 천둥 of MBLAQ) / 아이유(IU)\n",
      "77. INVU / 태연 (TAEYEON)\n",
      "78. 고백 / 멜로망스(Melomance)\n",
      "79. 늦은 밤 헤어지긴 너무 아쉬워 / 케이시(Kassy)\n",
      "80. 빡 (Feat. 팔로알토 (Paloalto), 저스디스 (JUSTHIS)) (Prod. R.Tee) / 던말릭(DON MALIK)\n",
      "81. DICE / NMIXX\n",
      "82. 크리스마스니까 / 성시경, 박효신, 이석훈, 서인국, VIXX(빅스)\n",
      "83. 진심이었던 사람만 바보가 돼 / 권진아\n",
      "84. 라일락 / 아이유(IU)\n",
      "85. 새벽에 걸려온 너의 전화는 / 한동근\n",
      "86. 그대를 알고 / 송하예\n",
      "87. 듣고 싶을까 / MSG워너비(M.O.M)\n",
      "88. 고백연습 / 경서\n",
      "89. Say I Love You / 우디 (Woody)\n",
      "90. Beautiful Christmas / Red Velvet (레드벨벳), aespa\n",
      "91. Last Christmas / 허윤진\n",
      "92. 깨우지 않을게 (Feat. pH-1) / meenoi (미노이)\n",
      "93. Last Christmas / Wham!\n",
      "94. Santa Claus Is Comin' to Town / 이수현\n",
      "95. I Ain't Worried / OneRepublic\n",
      "96. 잘가요 / 주호\n",
      "97. 그날의 그대여 / 헤이즈 (Heize)\n",
      "98. Birthday / Red Velvet (레드벨벳)\n",
      "99. Underneath the Tree / Kelly Clarkson\n",
      "100. As It Was / Harry Styles\n"
     ]
    }
   ],
   "source": [
    "ranks = soup.select('td.rank span.text')\n",
    "\n",
    "for rank, song, artist in zip(ranks, songs_list, artists_list):\n",
    "    print(rank.get_text() + '. ' + song.get_text() + ' / ' + artist.get('title'))"
   ]
  },
  {
   "cell_type": "code",
   "execution_count": 25,
   "id": "73748e15",
   "metadata": {
    "collapsed": true
   },
   "outputs": [
    {
     "name": "stdout",
     "output_type": "stream",
     "text": [
      "1 . Ditto / NewJeans\n",
      "2 . 사건의 지평선 / 윤하\n",
      "3 . Hype boy / NewJeans\n",
      "4 . After LIKE / IVE(아이브)\n",
      "5 . ANTIFRAGILE / LE SSERAFIM (르세라핌)\n",
      "6 . Attention / NewJeans\n",
      "7 . LOVE DIVE / IVE(아이브)\n",
      "8 . Nxde / (여자) 아이들\n",
      "9 . NOT SORRY (Feat. pH-1) (Prod. by Slom) / 이영지\n",
      "10 . 새삥 (Prod. ZICO) (Feat. 호미들) / 지코 (ZICO)\n",
      "11 . Candy / NCT DREAM\n",
      "12 . Monologue / 테이\n",
      "13 . Pink Venom / BLACKPINK\n",
      "14 . WHEN I MOVE / 카라(Kara)\n",
      "15 . 너의 모든 순간 / 성시경\n",
      "16 . TOMBOY / (여자) 아이들\n",
      "17 . Dreamers [Music from the FIFA World Cup Qatar 2022 Official Soundtrack] (Feat. FIFA Sound) / 정국, 방탄소년단\n",
      "18 . Shut Down / BLACKPINK\n",
      "19 . 그때 그 순간 그대로 (그그그) / WSG워너비(가야G)\n",
      "20 . 나의 X에게 / 경서\n",
      "21 . FEARLESS / LE SSERAFIM (르세라핌)\n",
      "22 . That's Hilarious / Charlie Puth\n",
      "23 . ELEVEN / IVE(아이브)\n",
      "24 . 자격지심 (Feat. ZICO) / BE'O(비오)\n",
      "25 . 마이웨이 (MY WAY) (Prod. R.Tee) / 저스디스(JUSTHIS), R.Tee, 던말릭(DON MALIK), 허성현 (Huh), KHAN, 맥대디(Mckdaddy), 로스(Los)\n",
      "26 . 드라마 / 아이유(IU)\n",
      "27 . Cookie / NewJeans\n",
      "28 . Rush Hour (Feat. j-hope of BTS) / Crush\n",
      "29 . 어떻게 이별까지 사랑하겠어, 널 사랑하는 거지 / AKMU(악뮤)\n",
      "30 . 그라데이션 / 10CM\n",
      "31 . 눈이 오잖아(Feat.헤이즈) / 이무진\n",
      "32 . 사랑인가 봐 / 멜로망스(Melomance)\n",
      "33 . 정이라고 하자 (Feat. 10CM) / BIG Naughty (서동현)\n",
      "34 . Santa Tell Me / Ariana Grande\n",
      "35 . 우리들의 블루스 / 임영웅\n",
      "36 . 취중고백 / 김민석(멜로망스)\n",
      "37 . 아픈 나를 / 성시경\n",
      "38 . Unholy / Sam Smith, Kim Petras\n",
      "39 . 도깨비불 (Illusion) / aespa\n",
      "40 . All I Want for Christmas Is You / Mariah Carey\n",
      "41 . 보고싶었어 / WSG워너비(4FIRE)\n",
      "42 . 우린 그렇게 사랑해서 / 강민경, 잔나비 최정훈\n",
      "43 . 밤하늘의 별을 (2020) / 경서\n",
      "44 . That That (prod. ＆ feat. SUGA of BTS) / 싸이 (PSY)\n",
      "45 . 봄여름가을겨울 (Still Life) / BIGBANG (빅뱅)\n",
      "46 . 밤편지 / 아이유(IU)\n",
      "47 . FOREVER 1 / 소녀시대 (GIRLS' GENERATION)\n",
      "48 . 팡파레 / 다비치\n",
      "49 . Snowman / Sia\n",
      "50 . 첫눈처럼 너에게 가겠다 / 에일리(Ailee)\n",
      "51 . 위하여 (We Higher) (Prod. GroovyRoom) / 그루비룸(GroovyRoom), 릴보이(lIlBOI), Blase(블라세), 노윤하, Polodared, Chillin Homie, Fleeky Bang\n",
      "52 . Feel My Rhythm / Red Velvet (레드벨벳)\n",
      "53 . SNEAKERS / ITZY(있지)\n",
      "54 . 주저하는 연인들을 위해 / 잔나비\n",
      "55 . Made You Look / Meghan Trainor\n",
      "56 . I Don't Think That I Like Her / Charlie Puth\n",
      "57 . 신호등 / 이무진\n",
      "58 . 딱 10CM만 / 10CM, BIG Naughty (서동현)\n",
      "59 . Cheshire / ITZY(있지)\n",
      "60 . 사랑은 늘 도망가 / 임영웅\n",
      "61 . 미운오리새끼 (Feat. 선우정아, BOBBY) (Prod. R.Tee) / 허성현 (Huh)\n",
      "62 . 눈 (EYE) (Feat. BIG Naughty, 저스디스 (JUSTHIS)) (Prod. R.Tee) / 던말릭(DON MALIK)\n",
      "63 . STAY / The Kid LAROI, Justin Bieber\n",
      "64 . 다정히 내 이름을 부르면 / 경서예지, 전건호\n",
      "65 . POP! / 나연 (TWICE)\n",
      "66 . LOVE me / BE'O(비오)\n",
      "67 . 모든 날, 모든 순간 (Every day, Every Moment) / 폴킴\n",
      "68 . LAW (Prod. Czaer) / 윤미래, 비비(BIBI)\n",
      "69 . 다시 만날 수 있을까 / 임영웅\n",
      "70 . 회전목마 (Feat. Zion.T, 원슈타인) (Prod. Slom) / sokodomo\n",
      "71 . 스티커 사진 / 21학번\n",
      "72 . Talk that Talk / TWICE(트와이스)\n",
      "73 . strawberry moon / 아이유(IU)\n",
      "74 . SMILEY (Feat. BIBI) / YENA(최예나)\n",
      "75 . 어제처럼 / 폴킴\n",
      "76 . 미리 메리 크리스마스 (Feat. 천둥 of MBLAQ) / 아이유(IU)\n",
      "77 . INVU / 태연 (TAEYEON)\n",
      "78 . 고백 / 멜로망스(Melomance)\n",
      "79 . 늦은 밤 헤어지긴 너무 아쉬워 / 케이시(Kassy)\n",
      "80 . 빡 (Feat. 팔로알토 (Paloalto), 저스디스 (JUSTHIS)) (Prod. R.Tee) / 던말릭(DON MALIK)\n",
      "81 . DICE / NMIXX\n",
      "82 . 크리스마스니까 / 성시경, 박효신, 이석훈, 서인국, VIXX(빅스)\n",
      "83 . 진심이었던 사람만 바보가 돼 / 권진아\n",
      "84 . 라일락 / 아이유(IU)\n",
      "85 . 새벽에 걸려온 너의 전화는 / 한동근\n",
      "86 . 그대를 알고 / 송하예\n",
      "87 . 듣고 싶을까 / MSG워너비(M.O.M)\n",
      "88 . 고백연습 / 경서\n",
      "89 . Say I Love You / 우디 (Woody)\n",
      "90 . Beautiful Christmas / Red Velvet (레드벨벳), aespa\n",
      "91 . Last Christmas / 허윤진\n",
      "92 . 깨우지 않을게 (Feat. pH-1) / meenoi (미노이)\n",
      "93 . Last Christmas / Wham!\n",
      "94 . Santa Claus Is Comin' to Town / 이수현\n",
      "95 . I Ain't Worried / OneRepublic\n",
      "96 . 잘가요 / 주호\n",
      "97 . 그날의 그대여 / 헤이즈 (Heize)\n",
      "98 . Birthday / Red Velvet (레드벨벳)\n",
      "99 . Underneath the Tree / Kelly Clarkson\n",
      "100 . As It Was / Harry Styles\n"
     ]
    }
   ],
   "source": [
    "i = 0\n",
    "\n",
    "for song, artist in zip(songs_list, artists_list):\n",
    "    print(i+1, '. ' + song.get_text() + ' / ' + artist.get('title'))\n",
    "    i=i+1"
   ]
  },
  {
   "cell_type": "code",
   "execution_count": null,
   "id": "77541412",
   "metadata": {},
   "outputs": [],
   "source": []
  }
 ],
 "metadata": {
  "kernelspec": {
   "display_name": "Python 3 (ipykernel)",
   "language": "python",
   "name": "python3"
  },
  "language_info": {
   "codemirror_mode": {
    "name": "ipython",
    "version": 3
   },
   "file_extension": ".py",
   "mimetype": "text/x-python",
   "name": "python",
   "nbconvert_exporter": "python",
   "pygments_lexer": "ipython3",
   "version": "3.8.15"
  }
 },
 "nbformat": 4,
 "nbformat_minor": 5
}
