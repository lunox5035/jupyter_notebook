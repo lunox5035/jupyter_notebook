{
 "cells": [
  {
   "cell_type": "markdown",
   "id": "ef4418fd",
   "metadata": {},
   "source": [
    "시카고 올해의 배스트 센드위치(2012)"
   ]
  },
  {
   "cell_type": "code",
   "execution_count": 1,
   "id": "f2877e83",
   "metadata": {},
   "outputs": [],
   "source": [
    "from bs4 import BeautifulSoup\n",
    "import requests"
   ]
  },
  {
   "cell_type": "code",
   "execution_count": 2,
   "id": "d99543bd",
   "metadata": {},
   "outputs": [],
   "source": [
    "url='https://www.chicagomag.com/Chicago-Magazine/November-2012/Best-Sandwiches-Chicago/'\n",
    "html = requests.get(url, headers={\"User-Agent\":\"Mozilla/5.0\"}).text\n",
    "soup=BeautifulSoup(html,'lxml')"
   ]
  },
  {
   "cell_type": "code",
   "execution_count": 4,
   "id": "9dd4d02c",
   "metadata": {},
   "outputs": [
    {
     "data": {
      "text/plain": [
       "50"
      ]
     },
     "execution_count": 4,
     "metadata": {},
     "output_type": "execute_result"
    }
   ],
   "source": [
    "len(soup.select('div.sammy'))"
   ]
  },
  {
   "cell_type": "code",
   "execution_count": 6,
   "id": "112f2dca",
   "metadata": {},
   "outputs": [
    {
     "data": {
      "text/plain": [
       "<div class=\"sammy\" style=\"position: relative;\">\n",
       "<div class=\"sammyRank\">1</div>\n",
       "<div class=\"sammyListing\"><a href=\"/Chicago-Magazine/November-2012/Best-Sandwiches-in-Chicago-Old-Oak-Tap-BLT/\"><b>BLT</b><br/>\n",
       "Old Oak Tap<br/>\n",
       "<em>Read more</em> </a></div>\n",
       "</div>"
      ]
     },
     "execution_count": 6,
     "metadata": {},
     "output_type": "execute_result"
    }
   ],
   "source": [
    "soup.select('div.sammy')[0]"
   ]
  },
  {
   "cell_type": "code",
   "execution_count": 7,
   "id": "f99db15d",
   "metadata": {},
   "outputs": [],
   "source": [
    "tmp=soup.select('div.sammy')[0]"
   ]
  },
  {
   "cell_type": "code",
   "execution_count": 8,
   "id": "98aac7e0",
   "metadata": {},
   "outputs": [
    {
     "data": {
      "text/plain": [
       "'1'"
      ]
     },
     "execution_count": 8,
     "metadata": {},
     "output_type": "execute_result"
    }
   ],
   "source": [
    "tmp.select('.sammyRank')[0].text"
   ]
  },
  {
   "cell_type": "code",
   "execution_count": 9,
   "id": "84162958",
   "metadata": {},
   "outputs": [
    {
     "data": {
      "text/plain": [
       "'BLT\\nOld Oak Tap\\nRead more '"
      ]
     },
     "execution_count": 9,
     "metadata": {},
     "output_type": "execute_result"
    }
   ],
   "source": [
    "tmp.select('.sammyListing')[0].text"
   ]
  },
  {
   "cell_type": "code",
   "execution_count": 10,
   "id": "8c93de18",
   "metadata": {},
   "outputs": [
    {
     "data": {
      "text/plain": [
       "'/Chicago-Magazine/November-2012/Best-Sandwiches-in-Chicago-Old-Oak-Tap-BLT/'"
      ]
     },
     "execution_count": 10,
     "metadata": {},
     "output_type": "execute_result"
    }
   ],
   "source": [
    "tmp.find('a')['href']"
   ]
  },
  {
   "cell_type": "code",
   "execution_count": 11,
   "id": "5caa4905",
   "metadata": {},
   "outputs": [
    {
     "data": {
      "text/plain": [
       "['BLT', 'Old Oak Tap', 'Read more ']"
      ]
     },
     "execution_count": 11,
     "metadata": {},
     "output_type": "execute_result"
    }
   ],
   "source": [
    "info_str = tmp.select('.sammyListing')[0].text\n",
    "info_list = info_str.split('\\n')\n",
    "info_list"
   ]
  },
  {
   "cell_type": "code",
   "execution_count": null,
   "id": "1593b112",
   "metadata": {},
   "outputs": [],
   "source": []
  },
  {
   "cell_type": "code",
   "execution_count": 12,
   "id": "83b4197c",
   "metadata": {},
   "outputs": [
    {
     "name": "stdout",
     "output_type": "stream",
     "text": [
      "50 50 50 50\n"
     ]
    }
   ],
   "source": [
    "rank = []\n",
    "main_menu = []\n",
    "cafe_name = []\n",
    "link_url = []\n",
    "\n",
    "list_soup = soup.select('div.sammy')\n",
    "\n",
    "for item in list_soup:\n",
    "    rank.append(item.select('.sammyRank')[0].text)\n",
    "    list_string = \\\n",
    "            item.select('.sammyListing')[0].text.split('\\n')\n",
    "    main_menu.append(list_string[0])\n",
    "    cafe_name.append(list_string[1])\n",
    "    link_url.append(item.find('a')['href'])\n",
    "    \n",
    "print(len(rank), len(main_menu), len(cafe_name), \n",
    "     len(link_url))"
   ]
  },
  {
   "cell_type": "code",
   "execution_count": 13,
   "id": "351b9dfc",
   "metadata": {},
   "outputs": [
    {
     "data": {
      "text/plain": [
       "['1',\n",
       " '2',\n",
       " '3',\n",
       " '4',\n",
       " '5',\n",
       " '6',\n",
       " '7',\n",
       " '8',\n",
       " '9',\n",
       " '10',\n",
       " '11',\n",
       " '12',\n",
       " '13',\n",
       " '14',\n",
       " '15',\n",
       " '16',\n",
       " '17',\n",
       " '18',\n",
       " '19',\n",
       " '20',\n",
       " '21',\n",
       " '22',\n",
       " '23',\n",
       " '24',\n",
       " '25',\n",
       " '26',\n",
       " '27',\n",
       " '28',\n",
       " '29',\n",
       " '30',\n",
       " '31',\n",
       " '32',\n",
       " '33',\n",
       " '34',\n",
       " '35',\n",
       " '36',\n",
       " '37',\n",
       " '38',\n",
       " '39',\n",
       " '40',\n",
       " '41',\n",
       " '42',\n",
       " '43',\n",
       " '44',\n",
       " '45',\n",
       " '46',\n",
       " '47',\n",
       " '48',\n",
       " '49',\n",
       " '50']"
      ]
     },
     "execution_count": 13,
     "metadata": {},
     "output_type": "execute_result"
    }
   ],
   "source": [
    "rank"
   ]
  },
  {
   "cell_type": "code",
   "execution_count": 14,
   "id": "ad80dfed",
   "metadata": {},
   "outputs": [
    {
     "data": {
      "text/plain": [
       "['BLT',\n",
       " 'Fried Bologna',\n",
       " 'Woodland Mushroom',\n",
       " 'Roast Beef',\n",
       " 'PB&L',\n",
       " 'Belgian Chicken Curry Salad',\n",
       " 'Lobster Roll',\n",
       " 'Smoked Salmon Salad',\n",
       " 'Atomica Cemitas',\n",
       " 'Grilled Laughing Bird Shrimp and Fried Po’ Boy',\n",
       " 'Ham and Raclette Panino',\n",
       " 'Breaded Steak',\n",
       " 'The Hawkeye',\n",
       " 'Chicken Dip',\n",
       " 'Wild Boar Sloppy Joe',\n",
       " 'Meatball Sub',\n",
       " 'Corned Beef',\n",
       " 'Turkey Club',\n",
       " 'Falafel',\n",
       " 'Crab Cake',\n",
       " 'Chicken Schnitzel',\n",
       " 'Shawarma',\n",
       " 'Toasted Pimiento Cheese',\n",
       " 'Vegetarian Panino',\n",
       " 'Cali Chèvre',\n",
       " 'Pastrami',\n",
       " 'The Fredo',\n",
       " 'Smoked Ham',\n",
       " 'Jibarito',\n",
       " 'Shaved Prime Rib',\n",
       " 'Serrano Ham and Manchego Cheese',\n",
       " 'Tuna Salad',\n",
       " 'Paramount Reuben',\n",
       " 'The Istanbul',\n",
       " 'B.A.D.',\n",
       " 'Duck Confit and Mozzarella',\n",
       " 'Croque Monsieur',\n",
       " 'Green Garbanzo',\n",
       " 'The Hen House',\n",
       " 'Tuscan Chicken',\n",
       " 'The Marty ',\n",
       " 'Whitefish',\n",
       " 'Oat Bread, Pecan Butter, and Fruit Jam',\n",
       " 'Cauliflower Melt',\n",
       " 'Cubana',\n",
       " 'Kufta',\n",
       " 'Debbie’s Egg Salad',\n",
       " 'Beef Curry',\n",
       " 'Le Végétarien',\n",
       " 'The Gatsby']"
      ]
     },
     "execution_count": 14,
     "metadata": {},
     "output_type": "execute_result"
    }
   ],
   "source": [
    "main_menu"
   ]
  },
  {
   "cell_type": "code",
   "execution_count": 15,
   "id": "e810b40d",
   "metadata": {},
   "outputs": [
    {
     "data": {
      "text/plain": [
       "['Old Oak Tap',\n",
       " 'Au Cheval',\n",
       " 'Xoco',\n",
       " 'Al’s Deli',\n",
       " 'Publican Quality Meats',\n",
       " 'Hendrickx Belgian Bread Crafter',\n",
       " 'Acadia',\n",
       " 'Birchwood Kitchen',\n",
       " 'Cemitas Puebla',\n",
       " 'Nana',\n",
       " 'Lula Cafe',\n",
       " 'Ricobene’s',\n",
       " 'Frog n Snail',\n",
       " 'Crosby’s Kitchen',\n",
       " 'Longman & Eagle',\n",
       " 'Bari',\n",
       " 'Manny’s',\n",
       " 'Eggy’s',\n",
       " 'Old Jerusalem',\n",
       " 'Mindy’s HotChocolate',\n",
       " 'Olga’s Delicatessen',\n",
       " 'Dawali Mediterranean Kitchen',\n",
       " 'Big Jones',\n",
       " 'La Pane',\n",
       " 'Pastoral',\n",
       " 'Max’s Deli',\n",
       " 'Lucky’s Sandwich Co.',\n",
       " 'City Provisions',\n",
       " 'Papa’s Cache Sabroso',\n",
       " 'Bavette’s Bar & Boeuf',\n",
       " 'Hannah’s Bretzel',\n",
       " 'La Fournette',\n",
       " 'Paramount Room',\n",
       " 'Melt Sandwich Shoppe',\n",
       " 'Floriole Cafe & Bakery',\n",
       " 'First Slice Pie Café',\n",
       " 'Troquet',\n",
       " 'Grahamwich',\n",
       " 'Saigon Sisters',\n",
       " 'Rosalia’s Deli',\n",
       " 'Z&H MarketCafe',\n",
       " 'Market House on the Square',\n",
       " 'Elaine’s Coffee Call',\n",
       " 'Marion Street Cheese Market',\n",
       " 'Cafecito',\n",
       " 'Chickpea',\n",
       " 'The Goddess and Grocer',\n",
       " 'Zenwich',\n",
       " 'Toni Patisserie',\n",
       " 'Phoebe’s Bakery']"
      ]
     },
     "execution_count": 15,
     "metadata": {},
     "output_type": "execute_result"
    }
   ],
   "source": [
    "cafe_name"
   ]
  },
  {
   "cell_type": "code",
   "execution_count": 16,
   "id": "2aeb8e92",
   "metadata": {},
   "outputs": [
    {
     "data": {
      "text/plain": [
       "['/Chicago-Magazine/November-2012/Best-Sandwiches-in-Chicago-Old-Oak-Tap-BLT/',\n",
       " '/Chicago-Magazine/November-2012/Best-Sandwiches-in-Chicago-Au-Cheval-Fried-Bologna/',\n",
       " '/Chicago-Magazine/November-2012/Best-Sandwiches-in-Chicago-Xoco-Woodland-Mushroom/',\n",
       " '/Chicago-Magazine/November-2012/Best-Sandwiches-in-Chicago-Als-Deli-Roast-Beef/',\n",
       " '/Chicago-Magazine/November-2012/Best-Sandwiches-in-Chicago-Publican-Quality-Meats-PB-L/',\n",
       " 'https://www.chicagomag.com/Chicago-Magazine/November-2012/Best-Sandwiches-in-Chicago-Hendrickx-Belgian-Bread-Crafter-Belgian-Chicken-Curry-Salad/',\n",
       " '/Chicago-Magazine/November-2012/Best-Sandwiches-in-Chicago-Acadia-Lobster-Roll/',\n",
       " '/Chicago-Magazine/November-2012/Best-Sandwiches-in-Chicago-Birchwood-Kitchen-Smoked-Salmon-Salad/',\n",
       " '/Chicago-Magazine/November-2012/Best-Sandwiches-in-Chicago-Cemitas-Puebla-Atomica-Cemitas/',\n",
       " '/Chicago-Magazine/November-2012/Best-Sandwiches-in-Chicago-Nana-Grilled-Laughing-Bird-Shrimp-and-Fried-Oyster-Po-Boy/',\n",
       " 'https://www.chicagomag.com/Chicago-Magazine/November-2012/Best-Sandwiches-in-Chicago-Lula-Cafe-Ham-and-Raclette-Panino/',\n",
       " 'https://www.chicagomag.com/Chicago-Magazine/November-2012/Best-Sandwiches-in-Chicago-Ricobenes-Breaded-Steak/',\n",
       " 'https://www.chicagomag.com/Chicago-Magazine/November-2012/Best-Sandwiches-in-Chicago-Frog-n-Snail-The-Hawkeye/',\n",
       " 'https://www.chicagomag.com/Chicago-Magazine/November-2012/Best-Sandwiches-in-Chicago-Crosbys-Kitchen-Chicken-Dip/',\n",
       " 'https://www.chicagomag.com/Chicago-Magazine/November-2012/Best-Sandwiches-in-Chicago-Longman-and-Eagle-Wild-Boar-Sloppy-Joe/',\n",
       " 'https://www.chicagomag.com/Chicago-Magazine/November-2012/Best-Sandwiches-in-Chicago-Bari-Meatball-Sub/',\n",
       " 'https://www.chicagomag.com/Chicago-Magazine/November-2012/Best-Sandwiches-in-Chicago-Mannys-Corned-Beef/',\n",
       " 'https://www.chicagomag.com/Chicago-Magazine/November-2012/Best-Sandwiches-in-Chicago-Eggys-Turkey-Club/',\n",
       " 'https://www.chicagomag.com/Chicago-Magazine/November-2012/Best-Sandwiches-in-Chicago-Old-Jerusalem-Falafel/',\n",
       " 'https://www.chicagomag.com/Chicago-Magazine/November-2012/Best-Sandwiches-in-Chicago-Mindys-HotChocolate-Crab-Cake/',\n",
       " 'https://www.chicagomag.com/Chicago-Magazine/November-2012/Best-Sandwiches-in-Chicago-Olgas-Delicatessen-Chicken-Schnitzel/',\n",
       " 'https://www.chicagomag.com/Chicago-Magazine/November-2012/Best-Sandwiches-in-Chicago-Dawali-Mediterranean-Kitchen-Shawarma/',\n",
       " 'https://www.chicagomag.com/Chicago-Magazine/November-2012/Best-Sandwiches-in-Chicago-Big-Jones-Toasted-Pimiento-Cheese/',\n",
       " 'https://www.chicagomag.com/Chicago-Magazine/November-2012/Best-Sandwiches-in-Chicago-La-Pane-Vegetarian-Panino/',\n",
       " '/Chicago-Magazine/November-2012/Best-Sandwiches-in-Chicago-Pastoral-Cali-Chevre/',\n",
       " 'https://www.chicagomag.com/Chicago-Magazine/November-2012/Best-Sandwiches-in-Chicago-Maxs-Deli-Pastrami/',\n",
       " 'https://www.chicagomag.com/Chicago-Magazine/November-2012/Best-Sandwiches-in-Chicago-Luckys-Sandwich-Co-The-Fredo/',\n",
       " 'https://www.chicagomag.com/Chicago-Magazine/November-2012/Best-Sandwiches-in-Chicago-City-Provisions-Smoked-Ham/',\n",
       " 'https://www.chicagomag.com/Chicago-Magazine/November-2012/Best-Sandwiches-in-Chicago-Papas-Cache-Sabroso-Jibarito/',\n",
       " 'https://www.chicagomag.com/Chicago-Magazine/November-2012/Best-Sandwiches-in-Chicago-Bavettes-Bar-and-Boeuf-Shaved-Prime-Rib/',\n",
       " 'https://www.chicagomag.com/Chicago-Magazine/November-2012/Best-Sandwiches-in-Chicago-Hannahs-Bretzel-Serrano-Ham-and-Manchego-Cheese/',\n",
       " 'https://www.chicagomag.com/Chicago-Magazine/November-2012/Best-Sandwiches-in-Chicago-La-Fournette-Tuna-Salad/',\n",
       " 'https://www.chicagomag.com/Chicago-Magazine/November-2012/Best-Sandwiches-in-Chicago-Paramount-Room-Paramount-Reuben/',\n",
       " 'https://www.chicagomag.com/Chicago-Magazine/November-2012/Best-Sandwiches-in-Chicago-Melt-Sandwich-Shoppe-The-Istanbul/',\n",
       " 'https://www.chicagomag.com/Chicago-Magazine/November-2012/Best-Sandwiches-in-Chicago-Floriole-Cafe-and-Bakery-BAD/',\n",
       " 'https://www.chicagomag.com/Chicago-Magazine/November-2012/Best-Sandwiches-in-Chicago-First-Slice-Pie-Cafe-Duck-Confit-and-Mozzarella/',\n",
       " 'https://www.chicagomag.com/Chicago-Magazine/November-2012/Best-Sandwiches-in-Chicago-Troquet-Croque-Monsieur/',\n",
       " 'https://www.chicagomag.com/Chicago-Magazine/November-2012/Best-Sandwiches-in-Chicago-Grahamwich-Green-Garbanzo/',\n",
       " 'https://www.chicagomag.com/Chicago-Magazine/November-2012/Best-Sandwiches-in-Chicago-Saigon-Sisters-The-Hen-House/',\n",
       " 'https://www.chicagomag.com/Chicago-Magazine/November-2012/Best-Sandwiches-in-Chicago-Rosalias-Deli-Tuscan-Chicken/',\n",
       " 'https://www.chicagomag.com/Chicago-Magazine/November-2012/Best-Sandwiches-in-Chicago-Z-and-H-MarketCafe-The-Marty/',\n",
       " 'https://www.chicagomag.com/Chicago-Magazine/November-2012/Best-Sandwiches-in-Chicago-Market-House-on-the-Square-Whitefish/',\n",
       " 'https://www.chicagomag.com/Chicago-Magazine/November-2012/Best-Sandwiches-in-Chicago-Elaines-Coffee-Call-Oat-Bread-Pecan-Butter-and-Fruit-Jam/',\n",
       " 'https://www.chicagomag.com/Chicago-Magazine/November-2012/Best-Sandwiches-in-Chicago-Marion-Street-Cheese-Market-Cauliflower-Melt/',\n",
       " 'https://www.chicagomag.com/Chicago-Magazine/November-2012/Best-Sandwiches-in-Chicago-Cafecito-Cubano/',\n",
       " 'https://www.chicagomag.com/Chicago-Magazine/November-2012/Best-Sandwiches-in-Chicago-Chickpea-Kufta/',\n",
       " 'https://www.chicagomag.com/Chicago-Magazine/November-2012/Best-Sandwiches-in-Chicago-The-Goddess-and-Grocer-Debbies-Egg-Salad/',\n",
       " 'https://www.chicagomag.com/Chicago-Magazine/November-2012/Best-Sandwiches-in-Chicago-Zenwich-Beef-Curry/',\n",
       " 'https://www.chicagomag.com/Chicago-Magazine/November-2012/Best-Sandwiches-in-Chicago-Toni-Patisserie-Le-Vegetarien/',\n",
       " 'https://www.chicagomag.com/Chicago-Magazine/November-2012/Best-Sandwiches-in-Chicago-Phoebes-Bakery-The-Gatsby/']"
      ]
     },
     "execution_count": 16,
     "metadata": {},
     "output_type": "execute_result"
    }
   ],
   "source": [
    "link_url"
   ]
  },
  {
   "cell_type": "code",
   "execution_count": null,
   "id": "c37f13bf",
   "metadata": {},
   "outputs": [],
   "source": []
  },
  {
   "cell_type": "code",
   "execution_count": 17,
   "id": "909bf9d6",
   "metadata": {},
   "outputs": [],
   "source": [
    "base_url = 'https://www.chicagomag.com'"
   ]
  },
  {
   "cell_type": "code",
   "execution_count": 18,
   "id": "8b03259f",
   "metadata": {},
   "outputs": [
    {
     "data": {
      "application/vnd.jupyter.widget-view+json": {
       "model_id": "96e37eddf2de46368727bf542e08218f",
       "version_major": 2,
       "version_minor": 0
      },
      "text/plain": [
       "  0%|          | 0/50 [00:00<?, ?it/s]"
      ]
     },
     "metadata": {},
     "output_type": "display_data"
    }
   ],
   "source": [
    "from urllib.parse import urljoin\n",
    "from tqdm.notebook import tqdm\n",
    "\n",
    "rank = []\n",
    "main_menu = []\n",
    "cafe_name = []\n",
    "link_url = []\n",
    "\n",
    "list_soup = soup.select('div.sammy')\n",
    "\n",
    "for item in tqdm(list_soup):\n",
    "    rank.append(item.select('.sammyRank')[0].text)\n",
    "    list_string = \\\n",
    "            item.select('.sammyListing')[0].text.split('\\n')\n",
    "    main_menu.append(list_string[0])\n",
    "    cafe_name.append(list_string[1])\n",
    "    link_url.append(urljoin(base_url, item.find('a')['href']))"
   ]
  },
  {
   "cell_type": "code",
   "execution_count": 19,
   "id": "a00d8d43",
   "metadata": {},
   "outputs": [
    {
     "data": {
      "text/plain": [
       "['https://www.chicagomag.com/Chicago-Magazine/November-2012/Best-Sandwiches-in-Chicago-Old-Oak-Tap-BLT/',\n",
       " 'https://www.chicagomag.com/Chicago-Magazine/November-2012/Best-Sandwiches-in-Chicago-Au-Cheval-Fried-Bologna/',\n",
       " 'https://www.chicagomag.com/Chicago-Magazine/November-2012/Best-Sandwiches-in-Chicago-Xoco-Woodland-Mushroom/',\n",
       " 'https://www.chicagomag.com/Chicago-Magazine/November-2012/Best-Sandwiches-in-Chicago-Als-Deli-Roast-Beef/',\n",
       " 'https://www.chicagomag.com/Chicago-Magazine/November-2012/Best-Sandwiches-in-Chicago-Publican-Quality-Meats-PB-L/',\n",
       " 'https://www.chicagomag.com/Chicago-Magazine/November-2012/Best-Sandwiches-in-Chicago-Hendrickx-Belgian-Bread-Crafter-Belgian-Chicken-Curry-Salad/',\n",
       " 'https://www.chicagomag.com/Chicago-Magazine/November-2012/Best-Sandwiches-in-Chicago-Acadia-Lobster-Roll/',\n",
       " 'https://www.chicagomag.com/Chicago-Magazine/November-2012/Best-Sandwiches-in-Chicago-Birchwood-Kitchen-Smoked-Salmon-Salad/',\n",
       " 'https://www.chicagomag.com/Chicago-Magazine/November-2012/Best-Sandwiches-in-Chicago-Cemitas-Puebla-Atomica-Cemitas/',\n",
       " 'https://www.chicagomag.com/Chicago-Magazine/November-2012/Best-Sandwiches-in-Chicago-Nana-Grilled-Laughing-Bird-Shrimp-and-Fried-Oyster-Po-Boy/',\n",
       " 'https://www.chicagomag.com/Chicago-Magazine/November-2012/Best-Sandwiches-in-Chicago-Lula-Cafe-Ham-and-Raclette-Panino/',\n",
       " 'https://www.chicagomag.com/Chicago-Magazine/November-2012/Best-Sandwiches-in-Chicago-Ricobenes-Breaded-Steak/',\n",
       " 'https://www.chicagomag.com/Chicago-Magazine/November-2012/Best-Sandwiches-in-Chicago-Frog-n-Snail-The-Hawkeye/',\n",
       " 'https://www.chicagomag.com/Chicago-Magazine/November-2012/Best-Sandwiches-in-Chicago-Crosbys-Kitchen-Chicken-Dip/',\n",
       " 'https://www.chicagomag.com/Chicago-Magazine/November-2012/Best-Sandwiches-in-Chicago-Longman-and-Eagle-Wild-Boar-Sloppy-Joe/',\n",
       " 'https://www.chicagomag.com/Chicago-Magazine/November-2012/Best-Sandwiches-in-Chicago-Bari-Meatball-Sub/',\n",
       " 'https://www.chicagomag.com/Chicago-Magazine/November-2012/Best-Sandwiches-in-Chicago-Mannys-Corned-Beef/',\n",
       " 'https://www.chicagomag.com/Chicago-Magazine/November-2012/Best-Sandwiches-in-Chicago-Eggys-Turkey-Club/',\n",
       " 'https://www.chicagomag.com/Chicago-Magazine/November-2012/Best-Sandwiches-in-Chicago-Old-Jerusalem-Falafel/',\n",
       " 'https://www.chicagomag.com/Chicago-Magazine/November-2012/Best-Sandwiches-in-Chicago-Mindys-HotChocolate-Crab-Cake/',\n",
       " 'https://www.chicagomag.com/Chicago-Magazine/November-2012/Best-Sandwiches-in-Chicago-Olgas-Delicatessen-Chicken-Schnitzel/',\n",
       " 'https://www.chicagomag.com/Chicago-Magazine/November-2012/Best-Sandwiches-in-Chicago-Dawali-Mediterranean-Kitchen-Shawarma/',\n",
       " 'https://www.chicagomag.com/Chicago-Magazine/November-2012/Best-Sandwiches-in-Chicago-Big-Jones-Toasted-Pimiento-Cheese/',\n",
       " 'https://www.chicagomag.com/Chicago-Magazine/November-2012/Best-Sandwiches-in-Chicago-La-Pane-Vegetarian-Panino/',\n",
       " 'https://www.chicagomag.com/Chicago-Magazine/November-2012/Best-Sandwiches-in-Chicago-Pastoral-Cali-Chevre/',\n",
       " 'https://www.chicagomag.com/Chicago-Magazine/November-2012/Best-Sandwiches-in-Chicago-Maxs-Deli-Pastrami/',\n",
       " 'https://www.chicagomag.com/Chicago-Magazine/November-2012/Best-Sandwiches-in-Chicago-Luckys-Sandwich-Co-The-Fredo/',\n",
       " 'https://www.chicagomag.com/Chicago-Magazine/November-2012/Best-Sandwiches-in-Chicago-City-Provisions-Smoked-Ham/',\n",
       " 'https://www.chicagomag.com/Chicago-Magazine/November-2012/Best-Sandwiches-in-Chicago-Papas-Cache-Sabroso-Jibarito/',\n",
       " 'https://www.chicagomag.com/Chicago-Magazine/November-2012/Best-Sandwiches-in-Chicago-Bavettes-Bar-and-Boeuf-Shaved-Prime-Rib/',\n",
       " 'https://www.chicagomag.com/Chicago-Magazine/November-2012/Best-Sandwiches-in-Chicago-Hannahs-Bretzel-Serrano-Ham-and-Manchego-Cheese/',\n",
       " 'https://www.chicagomag.com/Chicago-Magazine/November-2012/Best-Sandwiches-in-Chicago-La-Fournette-Tuna-Salad/',\n",
       " 'https://www.chicagomag.com/Chicago-Magazine/November-2012/Best-Sandwiches-in-Chicago-Paramount-Room-Paramount-Reuben/',\n",
       " 'https://www.chicagomag.com/Chicago-Magazine/November-2012/Best-Sandwiches-in-Chicago-Melt-Sandwich-Shoppe-The-Istanbul/',\n",
       " 'https://www.chicagomag.com/Chicago-Magazine/November-2012/Best-Sandwiches-in-Chicago-Floriole-Cafe-and-Bakery-BAD/',\n",
       " 'https://www.chicagomag.com/Chicago-Magazine/November-2012/Best-Sandwiches-in-Chicago-First-Slice-Pie-Cafe-Duck-Confit-and-Mozzarella/',\n",
       " 'https://www.chicagomag.com/Chicago-Magazine/November-2012/Best-Sandwiches-in-Chicago-Troquet-Croque-Monsieur/',\n",
       " 'https://www.chicagomag.com/Chicago-Magazine/November-2012/Best-Sandwiches-in-Chicago-Grahamwich-Green-Garbanzo/',\n",
       " 'https://www.chicagomag.com/Chicago-Magazine/November-2012/Best-Sandwiches-in-Chicago-Saigon-Sisters-The-Hen-House/',\n",
       " 'https://www.chicagomag.com/Chicago-Magazine/November-2012/Best-Sandwiches-in-Chicago-Rosalias-Deli-Tuscan-Chicken/',\n",
       " 'https://www.chicagomag.com/Chicago-Magazine/November-2012/Best-Sandwiches-in-Chicago-Z-and-H-MarketCafe-The-Marty/',\n",
       " 'https://www.chicagomag.com/Chicago-Magazine/November-2012/Best-Sandwiches-in-Chicago-Market-House-on-the-Square-Whitefish/',\n",
       " 'https://www.chicagomag.com/Chicago-Magazine/November-2012/Best-Sandwiches-in-Chicago-Elaines-Coffee-Call-Oat-Bread-Pecan-Butter-and-Fruit-Jam/',\n",
       " 'https://www.chicagomag.com/Chicago-Magazine/November-2012/Best-Sandwiches-in-Chicago-Marion-Street-Cheese-Market-Cauliflower-Melt/',\n",
       " 'https://www.chicagomag.com/Chicago-Magazine/November-2012/Best-Sandwiches-in-Chicago-Cafecito-Cubano/',\n",
       " 'https://www.chicagomag.com/Chicago-Magazine/November-2012/Best-Sandwiches-in-Chicago-Chickpea-Kufta/',\n",
       " 'https://www.chicagomag.com/Chicago-Magazine/November-2012/Best-Sandwiches-in-Chicago-The-Goddess-and-Grocer-Debbies-Egg-Salad/',\n",
       " 'https://www.chicagomag.com/Chicago-Magazine/November-2012/Best-Sandwiches-in-Chicago-Zenwich-Beef-Curry/',\n",
       " 'https://www.chicagomag.com/Chicago-Magazine/November-2012/Best-Sandwiches-in-Chicago-Toni-Patisserie-Le-Vegetarien/',\n",
       " 'https://www.chicagomag.com/Chicago-Magazine/November-2012/Best-Sandwiches-in-Chicago-Phoebes-Bakery-The-Gatsby/']"
      ]
     },
     "execution_count": 19,
     "metadata": {},
     "output_type": "execute_result"
    }
   ],
   "source": [
    "link_url"
   ]
  },
  {
   "cell_type": "code",
   "execution_count": 20,
   "id": "4b159ee0",
   "metadata": {},
   "outputs": [
    {
     "data": {
      "text/html": [
       "<div>\n",
       "<style scoped>\n",
       "    .dataframe tbody tr th:only-of-type {\n",
       "        vertical-align: middle;\n",
       "    }\n",
       "\n",
       "    .dataframe tbody tr th {\n",
       "        vertical-align: top;\n",
       "    }\n",
       "\n",
       "    .dataframe thead th {\n",
       "        text-align: right;\n",
       "    }\n",
       "</style>\n",
       "<table border=\"1\" class=\"dataframe\">\n",
       "  <thead>\n",
       "    <tr style=\"text-align: right;\">\n",
       "      <th></th>\n",
       "      <th>Rank</th>\n",
       "      <th>Cafe</th>\n",
       "      <th>Menu</th>\n",
       "      <th>URL</th>\n",
       "    </tr>\n",
       "  </thead>\n",
       "  <tbody>\n",
       "    <tr>\n",
       "      <th>0</th>\n",
       "      <td>1</td>\n",
       "      <td>Old Oak Tap</td>\n",
       "      <td>BLT</td>\n",
       "      <td>https://www.chicagomag.com/Chicago-Magazine/No...</td>\n",
       "    </tr>\n",
       "    <tr>\n",
       "      <th>1</th>\n",
       "      <td>2</td>\n",
       "      <td>Au Cheval</td>\n",
       "      <td>Fried Bologna</td>\n",
       "      <td>https://www.chicagomag.com/Chicago-Magazine/No...</td>\n",
       "    </tr>\n",
       "    <tr>\n",
       "      <th>2</th>\n",
       "      <td>3</td>\n",
       "      <td>Xoco</td>\n",
       "      <td>Woodland Mushroom</td>\n",
       "      <td>https://www.chicagomag.com/Chicago-Magazine/No...</td>\n",
       "    </tr>\n",
       "    <tr>\n",
       "      <th>3</th>\n",
       "      <td>4</td>\n",
       "      <td>Al’s Deli</td>\n",
       "      <td>Roast Beef</td>\n",
       "      <td>https://www.chicagomag.com/Chicago-Magazine/No...</td>\n",
       "    </tr>\n",
       "    <tr>\n",
       "      <th>4</th>\n",
       "      <td>5</td>\n",
       "      <td>Publican Quality Meats</td>\n",
       "      <td>PB&amp;L</td>\n",
       "      <td>https://www.chicagomag.com/Chicago-Magazine/No...</td>\n",
       "    </tr>\n",
       "  </tbody>\n",
       "</table>\n",
       "</div>"
      ],
      "text/plain": [
       "  Rank                    Cafe               Menu  \\\n",
       "0    1             Old Oak Tap                BLT   \n",
       "1    2               Au Cheval      Fried Bologna   \n",
       "2    3                    Xoco  Woodland Mushroom   \n",
       "3    4               Al’s Deli         Roast Beef   \n",
       "4    5  Publican Quality Meats               PB&L   \n",
       "\n",
       "                                                 URL  \n",
       "0  https://www.chicagomag.com/Chicago-Magazine/No...  \n",
       "1  https://www.chicagomag.com/Chicago-Magazine/No...  \n",
       "2  https://www.chicagomag.com/Chicago-Magazine/No...  \n",
       "3  https://www.chicagomag.com/Chicago-Magazine/No...  \n",
       "4  https://www.chicagomag.com/Chicago-Magazine/No...  "
      ]
     },
     "execution_count": 20,
     "metadata": {},
     "output_type": "execute_result"
    }
   ],
   "source": [
    "import pandas as pd\n",
    "\n",
    "data = {'Rank':rank, 'Cafe':cafe_name, 'Menu':main_menu,\n",
    "       'URL':link_url}\n",
    "df = pd.DataFrame(data)\n",
    "df.head()"
   ]
  },
  {
   "cell_type": "code",
   "execution_count": 21,
   "id": "6bb9988b",
   "metadata": {},
   "outputs": [
    {
     "data": {
      "text/plain": [
       "'https://www.chicagomag.com/Chicago-Magazine/November-2012/Best-Sandwiches-in-Chicago-Old-Oak-Tap-BLT/'"
      ]
     },
     "execution_count": 21,
     "metadata": {},
     "output_type": "execute_result"
    }
   ],
   "source": [
    "df['URL'][0]"
   ]
  },
  {
   "cell_type": "code",
   "execution_count": 22,
   "id": "bffaa822",
   "metadata": {},
   "outputs": [],
   "source": [
    "html = requests.get(df['URL'][0], \n",
    "                headers={\"User-Agent\":\"Mozilla/5.0\"}).text\n",
    "tmp = BeautifulSoup(html, 'lxml')"
   ]
  },
  {
   "cell_type": "code",
   "execution_count": 23,
   "id": "99eb545f",
   "metadata": {},
   "outputs": [
    {
     "data": {
      "text/plain": [
       "'\\n$10. 2109 W. Chicago Ave., 773-772-0406, theoldoaktap.com'"
      ]
     },
     "execution_count": 23,
     "metadata": {},
     "output_type": "execute_result"
    }
   ],
   "source": [
    "tmp.select('p.addy')[0].text"
   ]
  },
  {
   "cell_type": "code",
   "execution_count": 24,
   "id": "16de12f1",
   "metadata": {},
   "outputs": [
    {
     "data": {
      "text/plain": [
       "'\\n$10. 2109 W. Chicago Ave.'"
      ]
     },
     "execution_count": 24,
     "metadata": {},
     "output_type": "execute_result"
    }
   ],
   "source": [
    "tmp.select('p.addy')[0].text.split(',')[0]"
   ]
  },
  {
   "cell_type": "code",
   "execution_count": 25,
   "id": "7ad35af7",
   "metadata": {},
   "outputs": [
    {
     "data": {
      "text/plain": [
       "['$10.', '2109', 'W.', 'Chicago', 'Ave.']"
      ]
     },
     "execution_count": 25,
     "metadata": {},
     "output_type": "execute_result"
    }
   ],
   "source": [
    "tmp.select('p.addy')[0].text.split(',')[0].split()"
   ]
  },
  {
   "cell_type": "code",
   "execution_count": 26,
   "id": "5a9f2698",
   "metadata": {},
   "outputs": [
    {
     "data": {
      "text/plain": [
       "'$10.'"
      ]
     },
     "execution_count": 26,
     "metadata": {},
     "output_type": "execute_result"
    }
   ],
   "source": [
    "tmp.select('p.addy')[0].text.split(',')[0].split()[0]"
   ]
  },
  {
   "cell_type": "code",
   "execution_count": 28,
   "id": "68fe18a3",
   "metadata": {},
   "outputs": [
    {
     "data": {
      "text/plain": [
       "'$10.'"
      ]
     },
     "execution_count": 28,
     "metadata": {},
     "output_type": "execute_result"
    }
   ],
   "source": [
    "tmp.select('p.addy')[0].text.split(',')[0].split()[0]"
   ]
  },
  {
   "cell_type": "code",
   "execution_count": null,
   "id": "8c1034bb",
   "metadata": {},
   "outputs": [],
   "source": []
  }
 ],
 "metadata": {
  "kernelspec": {
   "display_name": "Python 3 (ipykernel)",
   "language": "python",
   "name": "python3"
  },
  "language_info": {
   "codemirror_mode": {
    "name": "ipython",
    "version": 3
   },
   "file_extension": ".py",
   "mimetype": "text/x-python",
   "name": "python",
   "nbconvert_exporter": "python",
   "pygments_lexer": "ipython3",
   "version": "3.8.15"
  }
 },
 "nbformat": 4,
 "nbformat_minor": 5
}
